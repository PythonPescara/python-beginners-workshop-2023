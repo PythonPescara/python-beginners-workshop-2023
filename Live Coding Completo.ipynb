{
  "cells": [
    {
      "cell_type": "markdown",
      "id": "b35fe87b",
      "metadata": {
        "id": "b35fe87b"
      },
      "source": [
        "# Rock - Paper - Scissors - Lizard - Spock\n",
        "\n",
        "Benvenuto al Beginners'Day del [Pycon 23](https://pycon.it/)! In questo workshop imparerai le basi della programmazione con il linguaggio Python sviluppando da zero svariate versioni del classico gioco Sasso-Carta-Forbice. Dalla versione classica alla version **top** in cui tramite Machine Learning il nostro programma riconoscerà da webcam la nostra mossa, tutto è a portata di mano."
      ]
    },
    {
      "cell_type": "markdown",
      "id": "78e5f376",
      "metadata": {
        "id": "78e5f376"
      },
      "source": [
        "## Task 1\n",
        "\n",
        "Nella prossima cella studieremo:\n",
        "\n",
        "*   cos'è una variabile in Python\n",
        "*   quali sono i tipi di variabile che è possibile avere in Python\n",
        "*   come è possible prendere un input da parte dell'utente\n",
        "*   come è possibile creare una lista con le possibili scelte di gioco\n",
        "*   come è possibile generare la mossa del computer in maniera casuale"
      ]
    },
    {
      "cell_type": "code",
      "execution_count": 1,
      "id": "6cfa68db",
      "metadata": {
        "ExecuteTime": {
          "end_time": "2023-05-19T12:20:23.287013Z",
          "start_time": "2023-05-19T12:20:20.860873Z"
        },
        "id": "6cfa68db"
      },
      "outputs": [],
      "source": [
        "intero=10\n",
        "booleano=True\n",
        "numero_float=0.13\n",
        "stringa='pycon'\n"
      ]
    },
    {
      "cell_type": "code",
      "execution_count": 2,
      "metadata": {
        "ExecuteTime": {
          "end_time": "2023-05-19T12:20:23.303529Z",
          "start_time": "2023-05-19T12:20:20.876923Z"
        },
        "colab": {
          "base_uri": "https://localhost:8080/"
        },
        "id": "DLo0HbU8jwtm",
        "outputId": "562230cf-75bd-4f3c-e77b-8bd19359f923"
      },
      "outputs": [
        {
          "output_type": "stream",
          "name": "stdout",
          "text": [
            "Ciao Mondo :)\n"
          ]
        }
      ],
      "source": [
        "print('Ciao Mondo :)')"
      ],
      "id": "DLo0HbU8jwtm"
    },
    {
      "cell_type": "code",
      "execution_count": 3,
      "metadata": {
        "ExecuteTime": {
          "end_time": "2023-05-19T12:20:23.333073Z",
          "start_time": "2023-05-19T12:20:20.891457Z"
        },
        "colab": {
          "base_uri": "https://localhost:8080/"
        },
        "id": "0OX9TkPDjwtm",
        "outputId": "a574317b-31b0-477c-b046-d312ad601525"
      },
      "outputs": [
        {
          "output_type": "stream",
          "name": "stdout",
          "text": [
            "10\n"
          ]
        }
      ],
      "source": [
        "print(intero)"
      ],
      "id": "0OX9TkPDjwtm"
    },
    {
      "cell_type": "code",
      "execution_count": 4,
      "metadata": {
        "ExecuteTime": {
          "end_time": "2023-05-19T12:20:23.334653Z",
          "start_time": "2023-05-19T12:20:20.905149Z"
        },
        "colab": {
          "base_uri": "https://localhost:8080/"
        },
        "id": "W70GvccNjwtn",
        "outputId": "a3b2ca60-3d28-4e18-a67b-89dbdd9e3d14"
      },
      "outputs": [
        {
          "output_type": "stream",
          "name": "stdout",
          "text": [
            "pycon 10\n"
          ]
        }
      ],
      "source": [
        "print(stringa,intero)"
      ],
      "id": "W70GvccNjwtn"
    },
    {
      "cell_type": "code",
      "execution_count": 5,
      "metadata": {
        "ExecuteTime": {
          "end_time": "2023-05-19T12:20:26.414596Z",
          "start_time": "2023-05-19T12:20:20.924676Z"
        },
        "colab": {
          "base_uri": "https://localhost:8080/"
        },
        "id": "sCQu4LkLjwtn",
        "outputId": "df9929df-8e20-4727-9c28-6599ce085f35"
      },
      "outputs": [
        {
          "name": "stdout",
          "output_type": "stream",
          "text": [
            "digita un numero?0\n"
          ]
        }
      ],
      "source": [
        "risultato = input('digita un numero?')"
      ],
      "id": "sCQu4LkLjwtn"
    },
    {
      "cell_type": "code",
      "execution_count": 6,
      "metadata": {
        "ExecuteTime": {
          "end_time": "2023-05-19T12:20:26.415102Z",
          "start_time": "2023-05-19T12:20:26.202688Z"
        },
        "colab": {
          "base_uri": "https://localhost:8080/"
        },
        "id": "Pslrt8Nwjwto",
        "outputId": "b82ee90e-627d-4ee1-eef3-c75961f4f1b5"
      },
      "outputs": [
        {
          "output_type": "stream",
          "name": "stdout",
          "text": [
            "0\n"
          ]
        }
      ],
      "source": [
        "print(risultato)\n"
      ],
      "id": "Pslrt8Nwjwto"
    },
    {
      "cell_type": "code",
      "execution_count": 7,
      "metadata": {
        "ExecuteTime": {
          "end_time": "2023-05-19T12:20:30.451911Z",
          "start_time": "2023-05-19T12:20:26.220803Z"
        },
        "colab": {
          "base_uri": "https://localhost:8080/"
        },
        "id": "hy51y-owjwto",
        "outputId": "5625255b-ced0-48c1-970e-0bba1648aa3c"
      },
      "outputs": [
        {
          "name": "stdout",
          "output_type": "stream",
          "text": [
            "Enter a choice (rock, paper, scissors): rock\n"
          ]
        }
      ],
      "source": [
        "user_action = input(\"Enter a choice (rock, paper, scissors): \")"
      ],
      "id": "hy51y-owjwto"
    },
    {
      "cell_type": "code",
      "execution_count": 8,
      "metadata": {
        "ExecuteTime": {
          "end_time": "2023-05-19T12:20:30.466948Z",
          "start_time": "2023-05-19T12:20:30.278604Z"
        },
        "id": "sO8y1DHqjwto"
      },
      "outputs": [],
      "source": [
        "import random\n"
      ],
      "id": "sO8y1DHqjwto"
    },
    {
      "cell_type": "code",
      "execution_count": 9,
      "metadata": {
        "ExecuteTime": {
          "end_time": "2023-05-19T12:20:30.467949Z",
          "start_time": "2023-05-19T12:20:30.295991Z"
        },
        "id": "NxgXYbZ-jwtp"
      },
      "outputs": [],
      "source": [
        "\n",
        "possible_actions = [\"rock\", \"paper\", \"scissors\"]\n",
        "computer_action = random.choice(possible_actions)\n"
      ],
      "id": "NxgXYbZ-jwtp"
    },
    {
      "cell_type": "code",
      "execution_count": 10,
      "metadata": {
        "ExecuteTime": {
          "end_time": "2023-05-19T12:20:30.469948Z",
          "start_time": "2023-05-19T12:20:30.312305Z"
        },
        "colab": {
          "base_uri": "https://localhost:8080/"
        },
        "id": "EKBwgQm1jwtp",
        "outputId": "c1d76205-ac9a-4ef0-8316-76f958a44d43"
      },
      "outputs": [
        {
          "output_type": "stream",
          "name": "stdout",
          "text": [
            "\n",
            "You chose rock, computer chose paper.\n",
            "\n"
          ]
        }
      ],
      "source": [
        "print(f\"\\nYou chose {user_action}, computer chose {computer_action}.\\n\")\n"
      ],
      "id": "EKBwgQm1jwtp"
    },
    {
      "cell_type": "markdown",
      "id": "f9faebb5",
      "metadata": {
        "id": "f9faebb5"
      },
      "source": [
        "## Task 2\n",
        "\n",
        "In questa cella confronteremo le mosse del computer e del giocatore per capire **chi ha vinto** e mostrare un messaggio adeguato"
      ]
    },
    {
      "cell_type": "code",
      "execution_count": 11,
      "id": "90af3eea",
      "metadata": {
        "ExecuteTime": {
          "end_time": "2023-05-19T12:20:30.469948Z",
          "start_time": "2023-05-19T12:20:30.326982Z"
        },
        "colab": {
          "base_uri": "https://localhost:8080/"
        },
        "id": "90af3eea",
        "outputId": "f28c8553-1e44-4b87-ccba-38b278614e21"
      },
      "outputs": [
        {
          "output_type": "stream",
          "name": "stdout",
          "text": [
            "Paper covers rock! You lose.\n"
          ]
        }
      ],
      "source": [
        "if user_action == computer_action:\n",
        "    print(f\"Both players selected {user_action}. It's a tie!\")\n",
        "elif user_action == \"rock\":\n",
        "    if computer_action == \"scissors\":\n",
        "        print(\"Rock smashes scissors! You win!\")\n",
        "    else:\n",
        "        print(\"Paper covers rock! You lose.\")\n",
        "elif user_action == \"paper\":\n",
        "    if computer_action == \"rock\":\n",
        "        print(\"Paper covers rock! You win!\")\n",
        "    else:\n",
        "        print(\"Scissors cuts paper! You lose.\")\n",
        "elif user_action == \"scissors\":\n",
        "    if computer_action == \"paper\":\n",
        "        print(\"Scissors cuts paper! You win!\")\n",
        "    else:\n",
        "        print(\"Rock smashes scissors! You lose.\")"
      ]
    },
    {
      "cell_type": "markdown",
      "id": "f9182a9f",
      "metadata": {
        "id": "f9182a9f"
      },
      "source": [
        "### Task 2a - Ripetiamo le manche di gioco per fare una partita vera e propria\n",
        "\n",
        "In questa cella useremo un **loop** Python (in particolare un ciclo `while`) per **giocare un numero indefinito di manche**. In particolare andremo a ripetere all'interno del ciclo `while` tutto quello che abbiamo fatto finora per la singola manche:\n",
        "- prendere in input dall'utente una scelta\n",
        "- generare la mossa del computer\n",
        "- confrontare le mosse\n",
        "- mostrare un output\n",
        "\n",
        "A queste operazioni ne aggiungeremo una: **chiediamo all'utente se vuole giocare ancora e, in caso negativo, usciamo dal loop di gioco**."
      ]
    },
    {
      "cell_type": "code",
      "execution_count": 12,
      "id": "47580fd9",
      "metadata": {
        "ExecuteTime": {
          "end_time": "2023-05-19T12:20:44.753623Z",
          "start_time": "2023-05-19T12:20:30.346046Z"
        },
        "colab": {
          "base_uri": "https://localhost:8080/"
        },
        "id": "47580fd9",
        "outputId": "68bc0cbc-9fc5-4601-eeaa-aa41d29c6e5f"
      },
      "outputs": [
        {
          "name": "stdout",
          "output_type": "stream",
          "text": [
            "Enter a choice (rock, paper, scissors): rock\n",
            "\n",
            "You chose rock, computer chose paper.\n",
            "\n",
            "Paper covers rock! You lose.\n",
            "Play again? (y/n): n\n"
          ]
        }
      ],
      "source": [
        "while True:\n",
        "    user_action = input(\"Enter a choice (rock, paper, scissors): \")\n",
        "    possible_actions = [\"rock\", \"paper\", \"scissors\"]\n",
        "    computer_action = random.choice(possible_actions)\n",
        "    print(f\"\\nYou chose {user_action}, computer chose {computer_action}.\\n\")\n",
        "\n",
        "    if user_action == computer_action:\n",
        "        print(f\"Both players selected {user_action}. It's a tie!\")\n",
        "    elif user_action == \"rock\":\n",
        "        if computer_action == \"scissors\":\n",
        "            print(\"Rock smashes scissors! You win!\")\n",
        "        else:\n",
        "            print(\"Paper covers rock! You lose.\")\n",
        "    elif user_action == \"paper\":\n",
        "        if computer_action == \"rock\":\n",
        "            print(\"Paper covers rock! You win!\")\n",
        "        else:\n",
        "            print(\"Scissors cuts paper! You lose.\")\n",
        "    elif user_action == \"scissors\":\n",
        "        if computer_action == \"paper\":\n",
        "            print(\"Scissors cuts paper! You win!\")\n",
        "        else:\n",
        "            print(\"Rock smashes scissors! You lose.\")\n",
        "\n",
        "    play_again = input(\"Play again? (y/n): \")\n",
        "    if play_again.lower() != \"y\":\n",
        "        break"
      ]
    },
    {
      "cell_type": "markdown",
      "id": "dd16cb05",
      "metadata": {
        "id": "dd16cb05"
      },
      "source": [
        "## Task 3: Ottimizzazioni nel codice\n",
        "\n",
        "Ora che abbiamo una versione di base del gioco in cui possiamo giocare contro il computer e anche aumentare la durata di una partita, cerchiamo di essere un po'più **pro**.\n",
        "\n",
        "Andremo nelle prossime celle ad implementare una serie di ottimizzazioni che serviranno a rendere il nostro codice più manutenibile e leggibile."
      ]
    },
    {
      "cell_type": "markdown",
      "id": "2dfe73b6",
      "metadata": {
        "id": "2dfe73b6"
      },
      "source": [
        "### Task 3a: Creiamo un enum\n",
        "\n",
        "In questa cella andiamo a generalizzare il concetto di \"azione\" creando una classe che **eredita** i comportamenti di `IntEnum` di Python"
      ]
    },
    {
      "cell_type": "code",
      "execution_count": 13,
      "id": "0ec721b6",
      "metadata": {
        "ExecuteTime": {
          "end_time": "2023-05-19T12:20:44.753623Z",
          "start_time": "2023-05-19T12:20:44.647673Z"
        },
        "id": "0ec721b6"
      },
      "outputs": [],
      "source": [
        "from enum import IntEnum\n",
        "\n",
        "class Action(IntEnum):\n",
        "    Rock = 0\n",
        "    Paper = 1\n",
        "    Scissors = 2"
      ]
    },
    {
      "cell_type": "code",
      "execution_count": 14,
      "metadata": {
        "ExecuteTime": {
          "end_time": "2023-05-19T12:20:44.756156Z",
          "start_time": "2023-05-19T12:20:44.665466Z"
        },
        "colab": {
          "base_uri": "https://localhost:8080/"
        },
        "id": "4BTg9ygOjwtq",
        "outputId": "c5c5e344-566f-4a7e-8ac6-8b6fa335af03"
      },
      "outputs": [
        {
          "output_type": "stream",
          "name": "stdout",
          "text": [
            "Action.Rock == Action.Rock True\n",
            "Action.Rock == Action(0) True\n",
            "Action(0) Action.Rock\n"
          ]
        }
      ],
      "source": [
        "print('Action.Rock == Action.Rock',Action.Rock == Action.Rock)\n",
        "print('Action.Rock == Action(0)',Action.Rock == Action(0))\n",
        "print('Action(0)',Action(0))"
      ],
      "id": "4BTg9ygOjwtq"
    },
    {
      "cell_type": "markdown",
      "id": "92eea47a",
      "metadata": {
        "id": "92eea47a"
      },
      "source": [
        "### Task 3b: Usiamo delle funzioni per ottimizzare il codice\n",
        "\n",
        "Tramite l'utilizzo di funzioni dividiamo il nostro programma principale in \"blocchi\" di codice che potranno essere richiamati in qualsiasi momento ne abbiamo bisogno. In particolare il nostro gioco si può suddividere in 3 fasi:\n",
        "\n",
        "- Fai giocare l'utente -> `get_user_selection()`\n",
        "- Fai giocare il computer -> `get_computer_selection()`\n",
        "- Decidi chi ha vinto -> `determine_winner(user_selection, computer_selection)`"
      ]
    },
    {
      "cell_type": "code",
      "execution_count": 15,
      "id": "08c5263b",
      "metadata": {
        "ExecuteTime": {
          "end_time": "2023-05-19T12:20:44.756156Z",
          "start_time": "2023-05-19T12:20:44.679996Z"
        },
        "id": "08c5263b"
      },
      "outputs": [],
      "source": [
        "def get_user_selection():\n",
        "    user_input = input(\"Enter a choice (rock[0], paper[1], scissors[2]): \")\n",
        "    selection = int(user_input)\n",
        "    action = Action(selection)\n",
        "    return action\n",
        "\n",
        "\n",
        "def get_user_selection():\n",
        "    choices = [f\"{action.name}[{action.value}]\" for action in Action]\n",
        "    choices_str = \", \".join(choices)\n",
        "    selection = int(input(f\"Enter a choice ({choices_str}): \"))\n",
        "    action = Action(selection)\n",
        "    return action"
      ]
    },
    {
      "cell_type": "code",
      "execution_count": 16,
      "metadata": {
        "ExecuteTime": {
          "end_time": "2023-05-19T12:20:44.793367Z",
          "start_time": "2023-05-19T12:20:44.696045Z"
        },
        "id": "hldiDTxqjwtr"
      },
      "outputs": [],
      "source": [
        "def get_computer_selection():\n",
        "    selection = random.randint(0, len(Action) - 1)\n",
        "    action = Action(selection)\n",
        "    return action"
      ],
      "id": "hldiDTxqjwtr"
    },
    {
      "cell_type": "code",
      "execution_count": 17,
      "metadata": {
        "ExecuteTime": {
          "end_time": "2023-05-19T12:20:44.794876Z",
          "start_time": "2023-05-19T12:20:44.715076Z"
        },
        "id": "eMYFUSiojwtr"
      },
      "outputs": [],
      "source": [
        "def determine_winner(user_action, computer_action):\n",
        "    if user_action == computer_action:\n",
        "        print(f\"Both players selected {user_action.name}. It's a tie!\")\n",
        "    elif user_action == Action.Rock:\n",
        "        if computer_action == Action.Scissors:\n",
        "            print(\"Rock smashes scissors! You win!\")\n",
        "        else:\n",
        "            print(\"Paper covers rock! You lose.\")\n",
        "    elif user_action == Action.Paper:\n",
        "        if computer_action == Action.Rock:\n",
        "            print(\"Paper covers rock! You win!\")\n",
        "        else:\n",
        "            print(\"Scissors cuts paper! You lose.\")\n",
        "    elif user_action == Action.Scissors:\n",
        "        if computer_action == Action.Paper:\n",
        "            print(\"Scissors cuts paper! You win!\")\n",
        "        else:\n",
        "            print(\"Rock smashes scissors! You lose.\")"
      ],
      "id": "eMYFUSiojwtr"
    },
    {
      "cell_type": "markdown",
      "id": "4ca7428d",
      "metadata": {
        "id": "4ca7428d"
      },
      "source": [
        "Una volta create queste funzioni possiamo crearne un'unica che racchiuda tutta la logica di gioco che possiamo invocare (o chiamare) ogni volta che vogliamo iniziare una nuova partita:\n",
        "\n",
        "- `start_game()`\n"
      ]
    },
    {
      "cell_type": "code",
      "execution_count": 18,
      "id": "8ebfa484",
      "metadata": {
        "ExecuteTime": {
          "end_time": "2023-05-19T12:20:44.794876Z",
          "start_time": "2023-05-19T12:20:44.724834Z"
        },
        "id": "8ebfa484"
      },
      "outputs": [],
      "source": [
        "def start_game():\n",
        "    while True:\n",
        "        try:\n",
        "            user_action = get_user_selection()\n",
        "        except ValueError as e:\n",
        "            range_str = f\"[0, {len(Action) - 1}]\"\n",
        "            print(f\"Invalid selection. Enter a value in range {range_str}\")\n",
        "            continue\n",
        "\n",
        "        computer_action = get_computer_selection()\n",
        "        determine_winner(user_action, computer_action)\n",
        "\n",
        "        play_again = input(\"Play again? (y/n): \")\n",
        "        if play_again.lower() != \"y\":\n",
        "            break"
      ]
    },
    {
      "cell_type": "code",
      "execution_count": 19,
      "metadata": {
        "ExecuteTime": {
          "end_time": "2023-05-19T12:20:50.862916Z",
          "start_time": "2023-05-19T12:20:44.741502Z"
        },
        "colab": {
          "base_uri": "https://localhost:8080/"
        },
        "id": "I3BM0Z4Kjwtr",
        "outputId": "c3e60e94-9187-4a74-e2dc-ba47e0c694dd"
      },
      "outputs": [
        {
          "name": "stdout",
          "output_type": "stream",
          "text": [
            "Enter a choice (Rock[0], Paper[1], Scissors[2]): 0\n",
            "Both players selected Rock. It's a tie!\n",
            "Play again? (y/n): n\n"
          ]
        }
      ],
      "source": [
        "start_game()"
      ],
      "id": "I3BM0Z4Kjwtr"
    },
    {
      "cell_type": "markdown",
      "id": "6955e8bc",
      "metadata": {
        "id": "6955e8bc"
      },
      "source": [
        "### Task 3c: Creiamo un dizionario con le mosse vincenti\n",
        "\n",
        "Creiamo un dizionario in cui avremo una coppia chiave/valore per ogni possibile mossa. In particolare:\n",
        "- la **chiave** sarà l'azione specificata nella nostra classe `Action`\n",
        "- il **valore** sarà **una lista** contenente le azioni della classe `Action` che *perdono* contro la mossa specificata come chiave"
      ]
    },
    {
      "cell_type": "code",
      "execution_count": 20,
      "id": "96893f8d",
      "metadata": {
        "ExecuteTime": {
          "end_time": "2023-05-19T12:20:50.864487Z",
          "start_time": "2023-05-19T12:20:50.756391Z"
        },
        "id": "96893f8d"
      },
      "outputs": [],
      "source": [
        "victories = {\n",
        "    Action.Rock: [Action.Scissors],  # Rock beats scissors\n",
        "    Action.Paper: [Action.Rock],  # Paper beats rock\n",
        "    Action.Scissors: [Action.Paper]  # Scissors beats paper\n",
        "}"
      ]
    },
    {
      "cell_type": "markdown",
      "id": "c3205d3c",
      "metadata": {
        "id": "c3205d3c"
      },
      "source": [
        "### Task 3d: Usiamo il dizionario e l'operatore `in` per semplificare i controlli"
      ]
    },
    {
      "cell_type": "code",
      "execution_count": 21,
      "id": "dce77a8a",
      "metadata": {
        "ExecuteTime": {
          "end_time": "2023-05-19T12:20:50.864487Z",
          "start_time": "2023-05-19T12:20:50.774458Z"
        },
        "id": "dce77a8a"
      },
      "outputs": [],
      "source": [
        "def determine_winner(user_action, computer_action):\n",
        "    print(f\"You chose {user_action.name}. The computer chose {computer_action.name}.\")\n",
        "    defeats = victories[user_action]\n",
        "    if user_action == computer_action:\n",
        "        print(f\"Both players selected {user_action.name}. It's a tie!\")\n",
        "    elif computer_action in defeats:\n",
        "        print(f\"{user_action.name} beats {computer_action.name}! You win!\")\n",
        "    else:\n",
        "        print(f\"{computer_action.name} beats {user_action.name}! You lose.\")"
      ]
    },
    {
      "cell_type": "code",
      "execution_count": 22,
      "metadata": {
        "ExecuteTime": {
          "end_time": "2023-05-19T12:20:56.122073Z",
          "start_time": "2023-05-19T12:20:50.794541Z"
        },
        "colab": {
          "base_uri": "https://localhost:8080/"
        },
        "id": "cv6L7ahtjwtr",
        "outputId": "cb9e5e5d-95bf-4bfd-e69f-913c2423ed57"
      },
      "outputs": [
        {
          "name": "stdout",
          "output_type": "stream",
          "text": [
            "Enter a choice (Rock[0], Paper[1], Scissors[2]): 0\n",
            "You chose Rock. The computer chose Scissors.\n",
            "Rock beats Scissors! You win!\n",
            "Play again? (y/n): n\n"
          ]
        }
      ],
      "source": [
        "start_game()"
      ],
      "id": "cv6L7ahtjwtr"
    },
    {
      "cell_type": "markdown",
      "id": "ee1b1835",
      "metadata": {
        "id": "ee1b1835"
      },
      "source": [
        "### Task 3e: Aggiungiamo le altre mosse: `lizard` e `spock`\n",
        "\n",
        "È importante notare come grazie alle ottimizzazioni già fatte **l'aggiunta di nuove mosse ci viene *quasi* gratis!**"
      ]
    },
    {
      "cell_type": "code",
      "execution_count": 23,
      "id": "60f6e2d5",
      "metadata": {
        "ExecuteTime": {
          "end_time": "2023-05-19T12:20:56.122073Z",
          "start_time": "2023-05-19T12:20:56.018470Z"
        },
        "id": "60f6e2d5"
      },
      "outputs": [],
      "source": [
        "class Action(IntEnum):\n",
        "    Rock = 0\n",
        "    Paper = 1\n",
        "    Scissors = 2\n",
        "    Lizard = 3\n",
        "    Spock = 4\n",
        "\n",
        "victories = {\n",
        "    Action.Scissors: [Action.Lizard, Action.Paper],\n",
        "    Action.Paper: [Action.Spock, Action.Rock],\n",
        "    Action.Rock: [Action.Lizard, Action.Scissors],\n",
        "    Action.Lizard: [Action.Spock, Action.Paper],\n",
        "    Action.Spock: [Action.Scissors, Action.Rock]\n",
        "}"
      ]
    },
    {
      "cell_type": "markdown",
      "id": "67881ce8",
      "metadata": {
        "id": "67881ce8"
      },
      "source": [
        "### Task 3f: Rendiamo più *catchy* il gioco tramite ASCII art\n",
        "\n",
        "Creeremo due nuovi dizionari:\n",
        "- in `ascii_action` metteremo le ascii art delle mosse\n",
        "- in `ascii_results` metteremo le ascii art dei possibili risultati"
      ]
    },
    {
      "cell_type": "code",
      "execution_count": 24,
      "id": "4422813d",
      "metadata": {
        "ExecuteTime": {
          "end_time": "2023-05-19T12:20:56.182207Z",
          "start_time": "2023-05-19T12:20:56.037218Z"
        },
        "id": "4422813d"
      },
      "outputs": [],
      "source": [
        "ascii_action = {\n",
        "    Action.Scissors: r\"\"\"\n",
        "     _____      _\n",
        "    /  ___|    (_)\n",
        "    \\ `--.  ___ _ ___ ___  ___  _ __ ___\n",
        "     `--. \\/ __| / __/ __|/ _ \\| '__/ __|\n",
        "    /\\__/ / (__| \\__ \\__ \\ (_) | |  \\__ \\\\\n",
        "    \\____/ \\___|_|___/___/\\___/|_|  |___/\n",
        "    \"\"\",\n",
        "    Action.Paper: r\"\"\"\n",
        "    ______\n",
        "    | ___ \\\n",
        "    | |_/ /_ _ _ __   ___ _ __\n",
        "    |  __/ _` | '_ \\ / _ \\ '__|\n",
        "    | | | (_| | |_) |  __/ |\n",
        "    \\_|  \\__,_| .__/ \\___|_|\n",
        "              | |\n",
        "              |_|\n",
        "     \"\"\",\n",
        "    Action.Rock: r\"\"\"\n",
        "    ______           _\n",
        "    | ___ \\         | |\n",
        "    | |_/ /___   ___| | __\n",
        "    |    // _ \\ / __| |/ /\n",
        "    | |\\ \\ (_) | (__|   <\n",
        "    \\_| \\_\\___/ \\___|_|\\_\\\n",
        "\n",
        "     \"\"\",\n",
        "    Action.Lizard: r\"\"\"\n",
        "     _     _                      _\n",
        "    | |   (_)                    | |\n",
        "    | |    _ __________ _ _ __ __| |\n",
        "    | |   | |_  /_  / _` | '__/ _` |\n",
        "    | |___| |/ / / / (_| | | | (_| |\n",
        "    \\_____/_/___/___\\__,_|_|  \\__,_|\n",
        "     \"\"\",\n",
        "    Action.Spock: r\"\"\"\n",
        "     _____                  _\n",
        "    /  ___|                | |\n",
        "    \\ `--. _ __   ___   ___| | __\n",
        "     `--. \\ '_ \\ / _ \\ / __| |/ /\n",
        "    /\\__/ / |_) | (_) | (__|   <\n",
        "    \\____/| .__/ \\___/ \\___|_|\\_\\\\\n",
        "          | |\n",
        "          |_|\n",
        "    \"\"\"\n",
        "}\n",
        "\n",
        "COMPUTER_WIN=-1\n",
        "HUMAN_WIN=1\n",
        "DROW=0\n",
        "ascii_result = {\n",
        "    COMPUTER_WIN: r\"\"\"\n",
        " _____ ________  _________ _   _ _____ ___________\n",
        "/  __ \\  _  |  \\/  || ___ \\ | | |_   _|  ___| ___ \\\\\n",
        "| /  \\/ | | | .  . || |_/ / | | | | | | |__ | |_/ /\n",
        "| |   | | | | |\\/| ||  __/| | | | | | |  __||    /\n",
        "| \\__/\\ \\_/ / |  | || |   | |_| | | | | |___| |\\ \\\n",
        " \\____/\\___/\\_|  |_/\\_|    \\___/  \\_/ \\____/\\_| \\_|\n",
        "\n",
        "\n",
        " _    _ _____ _   _  _____   _ _ _\n",
        "| |  | |_   _| \\ | |/  ___| | | | |\n",
        "| |  | | | | |  \\| |\\ `--.  | | | |\n",
        "| |/\\| | | | | . ` | `--. \\ | | | |\n",
        "\\  /\\  /_| |_| |\\  |/\\__/ / |_|_|_|\n",
        " \\/  \\/ \\___/\\_| \\_/\\____/  (_|_|_)\n",
        "\n",
        "                                                   \"\"\",\n",
        "    HUMAN_WIN: r\"\"\"\n",
        " _   _ _   ____  ___  ___   _   _\n",
        "| | | | | | |  \\/  | / _ \\ | \\ | |\n",
        "| |_| | | | | .  . |/ /_\\ \\|  \\| |\n",
        "|  _  | | | | |\\/| ||  _  || . ` |\n",
        "| | | | |_| | |  | || | | || |\\  |\n",
        "\\_| |_/\\___/\\_|  |_/\\_| |_/\\_| \\_/\n",
        "\n",
        "\n",
        " _    _ _____ _   _  _____   _ _ _\n",
        "| |  | |_   _| \\ | |/  ___| | | | |\n",
        "| |  | | | | |  \\| |\\ `--.  | | | |\n",
        "| |/\\| | | | | . ` | `--. \\ | | | |\n",
        "\\  /\\  /_| |_| |\\  |/\\__/ / |_|_|_|\n",
        " \\/  \\/ \\___/\\_| \\_/\\____/  (_|_|_)\n",
        "\n",
        "\n",
        "        __\n",
        "       / _|\n",
        "      | |_ ___  _ __   _ __   _____      __\n",
        "      |  _/ _ \\| '__| | '_ \\ / _ \\ \\ /\\ / /\n",
        " _ _ _| || (_) | |    | | | | (_) \\ V  V /   _ _ _\n",
        "(_|_|_)_| \\___/|_|    |_| |_|\\___/ \\_/\\_/   (_|_|_)\n",
        "\n",
        "                                                   \"\"\",\n",
        "    DROW: r\"\"\"\n",
        "         _   _          _\n",
        "        | | (_)        | |\n",
        "  __ _  | |_ _  ___  __| |   __ _  __ _ _ __ ___   ___\n",
        " / _` | | __| |/ _ \\/ _` |  / _` |/ _` | '_ ` _ \\ / _ \\\\\n",
        "| (_| | | |_| |  __/ (_| | | (_| | (_| | | | | | |  __/\n",
        " \\__,_|  \\__|_|\\___|\\__,_|  \\__, |\\__,_|_| |_| |_|\\___|\n",
        "                             __/ |\n",
        "                            |___/\n",
        "  ___                     _                _            __\n",
        " / / |                   | |              (_)           \\ \\\\\n",
        "| || |__   _____      __ | |__   ___  _ __ _ _ __   __ _ | |\n",
        "| || '_ \\ / _ \\ \\ /\\ / / | '_ \\ / _ \\| '__| | '_ \\ / _` || |\n",
        "| || | | | (_) \\ V  V /  | |_) | (_) | |  | | | | | (_| || |\n",
        "| ||_| |_|\\___/ \\_/\\_/   |_.__/ \\___/|_|  |_|_| |_|\\__, || |\n",
        " \\_\\                                                __/ /_/\n",
        "                                                   |___/    \"\"\"\n",
        "}"
      ]
    },
    {
      "cell_type": "markdown",
      "id": "75f2c6d5",
      "metadata": {
        "id": "75f2c6d5"
      },
      "source": [
        "Dopodichè creeremo due funzioni per visualizzare agevolmente azioni e risultati in ASCII art:\n",
        "- `display_action`\n",
        "- `display_results`"
      ]
    },
    {
      "cell_type": "code",
      "execution_count": 25,
      "id": "c96921e2",
      "metadata": {
        "ExecuteTime": {
          "end_time": "2023-05-19T12:20:56.182207Z",
          "start_time": "2023-05-19T12:20:56.052294Z"
        },
        "id": "c96921e2"
      },
      "outputs": [],
      "source": [
        "def display_action(action):\n",
        "    print(ascii_action[action])\n",
        "\n",
        "def display_result(result):\n",
        "    print(ascii_result[result])"
      ]
    },
    {
      "cell_type": "code",
      "execution_count": 26,
      "metadata": {
        "ExecuteTime": {
          "end_time": "2023-05-19T12:20:56.183207Z",
          "start_time": "2023-05-19T12:20:56.064342Z"
        },
        "colab": {
          "base_uri": "https://localhost:8080/"
        },
        "id": "18tMjb3sjwts",
        "outputId": "a6cd64b7-609c-43d9-d86d-8d89ffaedf78"
      },
      "outputs": [
        {
          "output_type": "stream",
          "name": "stdout",
          "text": [
            "\n",
            "     _____                  _\n",
            "    /  ___|                | |\n",
            "    \\ `--. _ __   ___   ___| | __\n",
            "     `--. \\ '_ \\ / _ \\ / __| |/ /\n",
            "    /\\__/ / |_) | (_) | (__|   <\n",
            "    \\____/| .__/ \\___/ \\___|_|\\_\\\\\n",
            "          | |\n",
            "          |_|\n",
            "    \n"
          ]
        }
      ],
      "source": [
        "display_action(Action.Spock)"
      ],
      "id": "18tMjb3sjwts"
    },
    {
      "cell_type": "markdown",
      "id": "c1b643e3",
      "metadata": {
        "id": "c1b643e3"
      },
      "source": [
        "Per usare queste funzioni dovremo modificare anche la funzione `determine_winner`"
      ]
    },
    {
      "cell_type": "code",
      "execution_count": 27,
      "id": "252c6e45",
      "metadata": {
        "ExecuteTime": {
          "end_time": "2023-05-19T12:20:56.184209Z",
          "start_time": "2023-05-19T12:20:56.081582Z"
        },
        "id": "252c6e45"
      },
      "outputs": [],
      "source": [
        "def determine_winner(user_action, computer_action):\n",
        "    print(f\"You chose\")\n",
        "    display_action(user_action)\n",
        "    print(f\"The computer chose\")\n",
        "    display_action(computer_action)\n",
        "    defeats = victories[user_action]\n",
        "    if user_action == computer_action:\n",
        "        display_result(DROW)\n",
        "        return DROW\n",
        "    elif computer_action in defeats:\n",
        "       display_result(HUMAN_WIN)\n",
        "       return HUMAN_WIN\n",
        "    else:\n",
        "       display_result(COMPUTER_WIN)\n",
        "       return COMPUTER_WIN"
      ]
    },
    {
      "cell_type": "code",
      "execution_count": 28,
      "metadata": {
        "ExecuteTime": {
          "end_time": "2023-05-19T12:21:01.057176Z",
          "start_time": "2023-05-19T12:20:56.101255Z"
        },
        "colab": {
          "base_uri": "https://localhost:8080/"
        },
        "id": "q_y93jZFjwtv",
        "outputId": "a46694b8-b9de-4543-a5aa-803a44bf53c9"
      },
      "outputs": [
        {
          "name": "stdout",
          "output_type": "stream",
          "text": [
            "Enter a choice (Rock[0], Paper[1], Scissors[2], Lizard[3], Spock[4]): 0\n",
            "You chose\n",
            "\n",
            "    ______           _\n",
            "    | ___ \\         | |\n",
            "    | |_/ /___   ___| | __\n",
            "    |    // _ \\ / __| |/ /\n",
            "    | |\\ \\ (_) | (__|   <\n",
            "    \\_| \\_\\___/ \\___|_|\\_\\\n",
            "\n",
            "     \n",
            "The computer chose\n",
            "\n",
            "    ______           _\n",
            "    | ___ \\         | |\n",
            "    | |_/ /___   ___| | __\n",
            "    |    // _ \\ / __| |/ /\n",
            "    | |\\ \\ (_) | (__|   <\n",
            "    \\_| \\_\\___/ \\___|_|\\_\\\n",
            "\n",
            "     \n",
            "\n",
            "         _   _          _\n",
            "        | | (_)        | |\n",
            "  __ _  | |_ _  ___  __| |   __ _  __ _ _ __ ___   ___\n",
            " / _` | | __| |/ _ \\/ _` |  / _` |/ _` | '_ ` _ \\ / _ \\\\\n",
            "| (_| | | |_| |  __/ (_| | | (_| | (_| | | | | | |  __/\n",
            " \\__,_|  \\__|_|\\___|\\__,_|  \\__, |\\__,_|_| |_| |_|\\___|\n",
            "                             __/ |\n",
            "                            |___/\n",
            "  ___                     _                _            __\n",
            " / / |                   | |              (_)           \\ \\\\\n",
            "| || |__   _____      __ | |__   ___  _ __ _ _ __   __ _ | |\n",
            "| || '_ \\ / _ \\ \\ /\\ / / | '_ \\ / _ \\| '__| | '_ \\ / _` || |\n",
            "| || | | | (_) \\ V  V /  | |_) | (_) | |  | | | | | (_| || |\n",
            "| ||_| |_|\\___/ \\_/\\_/   |_.__/ \\___/|_|  |_|_| |_|\\__, || |\n",
            " \\_\\                                                __/ /_/\n",
            "                                                   |___/    \n",
            "Play again? (y/n): n\n"
          ]
        }
      ],
      "source": [
        "start_game()"
      ],
      "id": "q_y93jZFjwtv"
    },
    {
      "cell_type": "markdown",
      "id": "5e478a36",
      "metadata": {
        "id": "5e478a36"
      },
      "source": [
        "### Conserviamo i punteggi ottenuti manche per manche dagli utenti\n",
        "\n",
        "Non ci accontenteremo più solo dei messaggi di vittoria della singola manche. Vogliamo proprio fare una partita per capire chi vince fra utente e computer dopo N manche. Ora possiamo fare una vera e propria partita contro il computer e decidere quando finirla!"
      ]
    },
    {
      "cell_type": "code",
      "execution_count": 29,
      "id": "ec5766f6",
      "metadata": {
        "ExecuteTime": {
          "end_time": "2023-05-19T12:21:01.096343Z",
          "start_time": "2023-05-19T12:21:01.055176Z"
        },
        "id": "ec5766f6"
      },
      "outputs": [],
      "source": [
        "def print_game_results(game_results):\n",
        "    num_tied = game_results.count(DROW)/len(game_results)*100\n",
        "    num_player_wins = game_results.count(HUMAN_WIN)/len(game_results)*100\n",
        "    num_computer_wins =game_results.count(COMPUTER_WIN)/len(game_results)*100\n",
        "\n",
        "    print( 'There were ', num_tied, '% tied games', \"\\nthe player won \", num_player_wins, '% of games\\nthe computer won ', num_computer_wins, '% of games\\nin a total of ', len(game_results), ' games')\n",
        "\n",
        "def start_game(num_games=1):\n",
        "    game_results=[]\n",
        "    counter=0\n",
        "    while True:\n",
        "        try:\n",
        "            user_action = get_user_selection()\n",
        "        except ValueError as e:\n",
        "            range_str = f\"[0, {len(Action) - 1}]\"\n",
        "            print(f\"Invalid selection. Enter a value in range {range_str}\")\n",
        "            continue\n",
        "\n",
        "        computer_action = get_computer_selection()\n",
        "        game_results.append(determine_winner(user_action, computer_action))\n",
        "        counter+=1\n",
        "\n",
        "        if counter>=num_games:\n",
        "            break\n",
        "    print_game_results(game_results)\n",
        "    return game_results\n",
        "\n"
      ]
    },
    {
      "cell_type": "code",
      "execution_count": 30,
      "metadata": {
        "ExecuteTime": {
          "end_time": "2023-05-19T12:21:09.040634Z",
          "start_time": "2023-05-19T12:21:01.070699Z"
        },
        "colab": {
          "base_uri": "https://localhost:8080/"
        },
        "id": "lcLQZxy3jwtw",
        "outputId": "a01480e3-f1ac-4857-b211-8b2e54d9a8ab"
      },
      "outputs": [
        {
          "output_type": "stream",
          "name": "stdout",
          "text": [
            "Enter a choice (Rock[0], Paper[1], Scissors[2], Lizard[3], Spock[4]): 4\n",
            "You chose\n",
            "\n",
            "     _____                  _\n",
            "    /  ___|                | |\n",
            "    \\ `--. _ __   ___   ___| | __\n",
            "     `--. \\ '_ \\ / _ \\ / __| |/ /\n",
            "    /\\__/ / |_) | (_) | (__|   <\n",
            "    \\____/| .__/ \\___/ \\___|_|\\_\\\\\n",
            "          | |\n",
            "          |_|\n",
            "    \n",
            "The computer chose\n",
            "\n",
            "     _____      _\n",
            "    /  ___|    (_)\n",
            "    \\ `--.  ___ _ ___ ___  ___  _ __ ___\n",
            "     `--. \\/ __| / __/ __|/ _ \\| '__/ __|\n",
            "    /\\__/ / (__| \\__ \\__ \\ (_) | |  \\__ \\\\\n",
            "    \\____/ \\___|_|___/___/\\___/|_|  |___/\n",
            "    \n",
            "\n",
            " _   _ _   ____  ___  ___   _   _\n",
            "| | | | | | |  \\/  | / _ \\ | \\ | |\n",
            "| |_| | | | | .  . |/ /_\\ \\|  \\| |\n",
            "|  _  | | | | |\\/| ||  _  || . ` |\n",
            "| | | | |_| | |  | || | | || |\\  |\n",
            "\\_| |_/\\___/\\_|  |_/\\_| |_/\\_| \\_/\n",
            "\n",
            "\n",
            " _    _ _____ _   _  _____   _ _ _\n",
            "| |  | |_   _| \\ | |/  ___| | | | |\n",
            "| |  | | | | |  \\| |\\ `--.  | | | |\n",
            "| |/\\| | | | | . ` | `--. \\ | | | |\n",
            "\\  /\\  /_| |_| |\\  |/\\__/ / |_|_|_|\n",
            " \\/  \\/ \\___/\\_| \\_/\\____/  (_|_|_)\n",
            "\n",
            "\n",
            "        __\n",
            "       / _|\n",
            "      | |_ ___  _ __   _ __   _____      __\n",
            "      |  _/ _ \\| '__| | '_ \\ / _ \\ \\ /\\ / /\n",
            " _ _ _| || (_) | |    | | | | (_) \\ V  V /   _ _ _\n",
            "(_|_|_)_| \\___/|_|    |_| |_|\\___/ \\_/\\_/   (_|_|_)\n",
            "\n",
            "                                                   \n",
            "There were  0.0 % tied games \n",
            "the player won  100.0 % of games\n",
            "the computer won  0.0 % of games\n",
            "in a total of  1  games\n"
          ]
        }
      ],
      "source": [
        "game_results=start_game(1)"
      ],
      "id": "lcLQZxy3jwtw"
    },
    {
      "cell_type": "markdown",
      "id": "aae3e00d",
      "metadata": {
        "id": "aae3e00d"
      },
      "source": [
        "### Utilizziamo un'interfaccia grafica!\n",
        "\n",
        "Nella cella successiva andremo ad utilizzare una feature di Jupyter che ci consente di creare al volo un menu a tendina (dopotutto questa è una pagina HTML, no?) e di associare un comportamento alla scelta della voce dal menu!\n",
        "\n",
        "Concetti connessi:\n",
        "- list comprehension\n",
        "- `widgets.Dropdown`"
      ]
    },
    {
      "cell_type": "code",
      "source": [
        "!pip install numpy\n",
        "!pip install opencv-python\n",
        "!pip install mediapipe\n",
        "!pip install requests"
      ],
      "metadata": {
        "colab": {
          "base_uri": "https://localhost:8080/"
        },
        "id": "yE1oRjMn5G0f",
        "outputId": "3a93152c-7404-4fff-afd8-88eb52d21135"
      },
      "id": "yE1oRjMn5G0f",
      "execution_count": 31,
      "outputs": [
        {
          "output_type": "stream",
          "name": "stdout",
          "text": [
            "Requirement already satisfied: numpy in /usr/local/lib/python3.10/dist-packages (1.23.5)\n",
            "Requirement already satisfied: opencv-python in /usr/local/lib/python3.10/dist-packages (4.8.0.76)\n",
            "Requirement already satisfied: numpy>=1.21.2 in /usr/local/lib/python3.10/dist-packages (from opencv-python) (1.23.5)\n",
            "Collecting mediapipe\n",
            "  Downloading mediapipe-0.10.7-cp310-cp310-manylinux_2_17_x86_64.manylinux2014_x86_64.whl (33.6 MB)\n",
            "\u001b[2K     \u001b[90m━━━━━━━━━━━━━━━━━━━━━━━━━━━━━━━━━━━━━━━━\u001b[0m \u001b[32m33.6/33.6 MB\u001b[0m \u001b[31m44.2 MB/s\u001b[0m eta \u001b[36m0:00:00\u001b[0m\n",
            "\u001b[?25hRequirement already satisfied: absl-py in /usr/local/lib/python3.10/dist-packages (from mediapipe) (1.4.0)\n",
            "Requirement already satisfied: attrs>=19.1.0 in /usr/local/lib/python3.10/dist-packages (from mediapipe) (23.1.0)\n",
            "Requirement already satisfied: flatbuffers>=2.0 in /usr/local/lib/python3.10/dist-packages (from mediapipe) (23.5.26)\n",
            "Requirement already satisfied: matplotlib in /usr/local/lib/python3.10/dist-packages (from mediapipe) (3.7.1)\n",
            "Requirement already satisfied: numpy in /usr/local/lib/python3.10/dist-packages (from mediapipe) (1.23.5)\n",
            "Requirement already satisfied: opencv-contrib-python in /usr/local/lib/python3.10/dist-packages (from mediapipe) (4.8.0.76)\n",
            "Requirement already satisfied: protobuf<4,>=3.11 in /usr/local/lib/python3.10/dist-packages (from mediapipe) (3.20.3)\n",
            "Collecting sounddevice>=0.4.4 (from mediapipe)\n",
            "  Downloading sounddevice-0.4.6-py3-none-any.whl (31 kB)\n",
            "Requirement already satisfied: CFFI>=1.0 in /usr/local/lib/python3.10/dist-packages (from sounddevice>=0.4.4->mediapipe) (1.16.0)\n",
            "Requirement already satisfied: contourpy>=1.0.1 in /usr/local/lib/python3.10/dist-packages (from matplotlib->mediapipe) (1.1.1)\n",
            "Requirement already satisfied: cycler>=0.10 in /usr/local/lib/python3.10/dist-packages (from matplotlib->mediapipe) (0.12.0)\n",
            "Requirement already satisfied: fonttools>=4.22.0 in /usr/local/lib/python3.10/dist-packages (from matplotlib->mediapipe) (4.43.1)\n",
            "Requirement already satisfied: kiwisolver>=1.0.1 in /usr/local/lib/python3.10/dist-packages (from matplotlib->mediapipe) (1.4.5)\n",
            "Requirement already satisfied: packaging>=20.0 in /usr/local/lib/python3.10/dist-packages (from matplotlib->mediapipe) (23.2)\n",
            "Requirement already satisfied: pillow>=6.2.0 in /usr/local/lib/python3.10/dist-packages (from matplotlib->mediapipe) (9.4.0)\n",
            "Requirement already satisfied: pyparsing>=2.3.1 in /usr/local/lib/python3.10/dist-packages (from matplotlib->mediapipe) (3.1.1)\n",
            "Requirement already satisfied: python-dateutil>=2.7 in /usr/local/lib/python3.10/dist-packages (from matplotlib->mediapipe) (2.8.2)\n",
            "Requirement already satisfied: pycparser in /usr/local/lib/python3.10/dist-packages (from CFFI>=1.0->sounddevice>=0.4.4->mediapipe) (2.21)\n",
            "Requirement already satisfied: six>=1.5 in /usr/local/lib/python3.10/dist-packages (from python-dateutil>=2.7->matplotlib->mediapipe) (1.16.0)\n",
            "Installing collected packages: sounddevice, mediapipe\n",
            "Successfully installed mediapipe-0.10.7 sounddevice-0.4.6\n",
            "Requirement already satisfied: requests in /usr/local/lib/python3.10/dist-packages (2.31.0)\n",
            "Requirement already satisfied: charset-normalizer<4,>=2 in /usr/local/lib/python3.10/dist-packages (from requests) (3.3.0)\n",
            "Requirement already satisfied: idna<4,>=2.5 in /usr/local/lib/python3.10/dist-packages (from requests) (3.4)\n",
            "Requirement already satisfied: urllib3<3,>=1.21.1 in /usr/local/lib/python3.10/dist-packages (from requests) (2.0.6)\n",
            "Requirement already satisfied: certifi>=2017.4.17 in /usr/local/lib/python3.10/dist-packages (from requests) (2023.7.22)\n"
          ]
        }
      ]
    },
    {
      "cell_type": "code",
      "source": [
        "!gdown 1G9WKV8BbGFx5JySQoRQrZ3Y8c_Lg9q3N"
      ],
      "metadata": {
        "colab": {
          "base_uri": "https://localhost:8080/"
        },
        "id": "uddtBN5Hj0mh",
        "outputId": "7a03f77d-d449-48c1-9627-3ecc8ad41274"
      },
      "id": "uddtBN5Hj0mh",
      "execution_count": 32,
      "outputs": [
        {
          "output_type": "stream",
          "name": "stdout",
          "text": [
            "Downloading...\n",
            "From: https://drive.google.com/uc?id=1G9WKV8BbGFx5JySQoRQrZ3Y8c_Lg9q3N\n",
            "To: /content/support.py\n",
            "\r  0% 0.00/10.6k [00:00<?, ?B/s]\r100% 10.6k/10.6k [00:00<00:00, 37.2MB/s]\n"
          ]
        }
      ]
    },
    {
      "cell_type": "code",
      "source": [
        "from support import *"
      ],
      "metadata": {
        "id": "Pg1r0Rq14b9f"
      },
      "id": "Pg1r0Rq14b9f",
      "execution_count": 33,
      "outputs": []
    },
    {
      "cell_type": "code",
      "execution_count": 34,
      "id": "a6b41097",
      "metadata": {
        "ExecuteTime": {
          "end_time": "2023-05-19T12:21:09.162321Z",
          "start_time": "2023-05-19T12:21:08.955141Z"
        },
        "id": "a6b41097",
        "colab": {
          "base_uri": "https://localhost:8080/",
          "height": 891,
          "referenced_widgets": [
            "6dbe33b9f1a445abb3293bf657b12fae",
            "0374851a408243198c4dcad1044959d4",
            "e87660665d2a4f1a92503f87ea974fc3",
            "5371e0071fae495bb1c9592897f1ccf4",
            "c6cc915e6f994733bc78130cbe028657",
            "4c3819168db1404c9341c4166712a9a0",
            "796fc107ef4241469841d521200315f2",
            "349f091e76cb498dab8e6180b6eb53fd",
            "e6d4c5294b0745c4839e940a23375fbf",
            "26326f1f8f0e4d07b7388894b2a2c4c2"
          ]
        },
        "outputId": "3d06dc82-6266-4e86-c558-1a0782433edb"
      },
      "outputs": [
        {
          "output_type": "display_data",
          "data": {
            "text/plain": [
              "VBox(children=(Dropdown(description='Chose:', options=(('Rock', 0), ('Paper', 1), ('Scissors', 2), ('Lizard', …"
            ],
            "application/vnd.jupyter.widget-view+json": {
              "version_major": 2,
              "version_minor": 0,
              "model_id": "6dbe33b9f1a445abb3293bf657b12fae"
            }
          },
          "metadata": {}
        }
      ],
      "source": [
        "options=[(action.name,action.value) for action in Action]\n",
        "output, button, box, menu = create_dropdown(options)\n",
        "\n",
        "def on_button_clicked(b):\n",
        "    output.clear_output()\n",
        "    with output:\n",
        "        computer_action = get_computer_selection()\n",
        "        determine_winner(Action(menu.value), computer_action)\n",
        "\n",
        "button.on_click(on_button_clicked)\n",
        "\n",
        "display(box)"
      ]
    },
    {
      "cell_type": "markdown",
      "id": "d95e966e",
      "metadata": {
        "id": "d95e966e"
      },
      "source": [
        "## Time to use ML!\n",
        "\n",
        "Nelle celle successive andremo ad utilizzare il Machine Learning per addestrare un modello predittivo in grado di dedurre la mossa dell'utente a partire dall'inquadratura della mano ottenuta con la webcam.\n",
        "\n",
        "Installiamo le librerie necessarie e importiamole:"
      ]
    },
    {
      "cell_type": "code",
      "source": [
        "download_dataset()"
      ],
      "metadata": {
        "id": "-PEs3CLQ0RES"
      },
      "id": "-PEs3CLQ0RES",
      "execution_count": 35,
      "outputs": []
    },
    {
      "cell_type": "code",
      "execution_count": 36,
      "metadata": {
        "ExecuteTime": {
          "end_time": "2023-05-19T12:27:09.195732Z",
          "start_time": "2023-05-19T12:27:09.078715Z"
        },
        "id": "5UfPPceOjwtx"
      },
      "outputs": [],
      "source": [
        "import io\n",
        "import numpy as np\n",
        "\n",
        "try:\n",
        "  from  google.colab.output import eval_js\n",
        "  colab = True\n",
        "except:\n",
        "  colab = False\n",
        "\n",
        "# colab=False\n",
        "\n",
        "if colab:\n",
        "    from IPython.display import display, Javascript\n",
        "    from  google.colab.output import eval_js\n",
        "    from base64 import b64decode\n",
        "    from PIL import Image as PIL_Image\n",
        "\n",
        "\n",
        "    def take_photo(quality=0.8):\n",
        "        js = Javascript('''\n",
        "        async function takePhoto(quality) {\n",
        "          const div = document.createElement('div');\n",
        "          const capture = document.createElement('button');\n",
        "          capture.textContent = 'Capture';\n",
        "          div.appendChild(capture);\n",
        "\n",
        "          const video = document.createElement('video');\n",
        "          video.style.display = 'block';\n",
        "          const stream = await navigator.mediaDevices.getUserMedia({video: true});\n",
        "\n",
        "          document.body.appendChild(div);\n",
        "          div.appendChild(video);\n",
        "          video.srcObject = stream;\n",
        "          await video.play();\n",
        "\n",
        "          // Resize the output to fit the video element.\n",
        "          google.colab.output.setIframeHeight(document.documentElement.scrollHeight, true);\n",
        "\n",
        "          // Wait for Capture to be clicked.\n",
        "          await new Promise((resolve) => capture.onclick = resolve);\n",
        "\n",
        "          const canvas = document.createElement('canvas');\n",
        "          canvas.width = video.videoWidth;\n",
        "          canvas.height = video.videoHeight;\n",
        "          canvas.getContext('2d').drawImage(video, 0, 0);\n",
        "          stream.getVideoTracks()[0].stop();\n",
        "          div.remove();\n",
        "          return canvas.toDataURL('image/jpeg', quality);\n",
        "        }\n",
        "        ''')\n",
        "        display(js)\n",
        "        data = eval_js('takePhoto({})'.format(quality))\n",
        "        binary = b64decode(data.split(',')[1])\n",
        "\n",
        "\n",
        "        image = PIL_Image.open(io.BytesIO(binary))\n",
        "        image_np = np.array(image)\n",
        "\n",
        "        # with open(filename, 'wb') as f:\n",
        "        #   f.write(binary)\n",
        "        return image_np\n",
        "else:\n",
        "    import cv2\n",
        "    def take_photo(filename='photo.jpg', quality=0.8):\n",
        "        cam = cv2.VideoCapture(0)\n",
        "\n",
        "        cv2.namedWindow(\"test\")\n",
        "\n",
        "        img_counter = 0\n",
        "\n",
        "        while True:\n",
        "            ret, frame = cam.read()\n",
        "            # Convert the image from BGR color (which OpenCV uses) to RGB color (which face_recognition uses)\n",
        "            if not ret:\n",
        "                print(\"failed to grab frame\")\n",
        "                break\n",
        "            cv2.imshow(\"test\", frame)\n",
        "\n",
        "            k = cv2.waitKey(1)\n",
        "            if k%256 == 27 or k%256 == 32 :\n",
        "                # ESC pressed\n",
        "                break\n",
        "\n",
        "        cam.release()\n",
        "\n",
        "        cv2.destroyAllWindows()\n",
        "\n",
        "        # Preprocess image\n",
        "        img = cv2.cvtColor(frame, cv2.COLOR_BGR2RGB)\n",
        "        # Flip image for 3rd person view\n",
        "        img = cv2.flip(img, 1)\n",
        "\n",
        "        # To improve performance, optionally mark image as not writeable to pass by reference\n",
        "        img.flags.writeable = False\n",
        "\n",
        "        return img"
      ],
      "id": "5UfPPceOjwtx"
    },
    {
      "cell_type": "code",
      "execution_count": 37,
      "metadata": {
        "ExecuteTime": {
          "end_time": "2023-05-19T12:27:10.726845Z",
          "start_time": "2023-05-19T12:27:10.611796Z"
        },
        "id": "3CCoidG5jwtx"
      },
      "outputs": [],
      "source": [
        "def start_game(num_games=1):\n",
        "    game_results=[]\n",
        "    counter=0\n",
        "    # Load mediapipe hand class\n",
        "    pipe = MediaPipeHand(static_image_mode=True, max_num_hands=1)\n",
        "    # Load gesture recognition class\n",
        "    gest = GestureRecognition()\n",
        "    while True:\n",
        "        try:\n",
        "            img = take_photo()\n",
        "\n",
        "            # # Show the image which was just taken.\n",
        "            # plt.imshow(img)\n",
        "            # Feedforward to extract keypoint\n",
        "            param = pipe.forward(img)\n",
        "            # Evaluate gesture for all hands\n",
        "\n",
        "            for p in param:\n",
        "                if p['class'] is not None:\n",
        "                    p['gesture'] = gest.eval(p['angle'])\n",
        "                    # print(p['class'])\n",
        "                    # print(p['gesture'])\n",
        "\n",
        "                    if p['gesture']=='fist':\n",
        "                        action = Action.Rock\n",
        "                    elif p['gesture']=='five':\n",
        "                        action = Action.Paper\n",
        "                    elif (p['gesture']=='three') or (p['gesture']=='yeah'):\n",
        "                        action = Action.Scissors\n",
        "                    elif (p['gesture']=='rock') :\n",
        "                        action = Action.Lizard\n",
        "                    elif (p['gesture']=='four'):\n",
        "                        action = Action.Spock\n",
        "                    if action is not None:\n",
        "                        computer_action = get_computer_selection()\n",
        "                        game_results.append(determine_winner(action, computer_action))\n",
        "                        counter+=1\n",
        "                        print_game_results(game_results)\n",
        "                        old_action=action\n",
        "\n",
        "            if counter>=num_games:\n",
        "                break\n",
        "        except Exception as err:\n",
        "            # Errors will be thrown if the user does not have a webcam or if they do not\n",
        "            # grant the page permission to access it.\n",
        "            print(str(err))\n",
        "            raise err\n",
        "\n",
        "    pipe.pipe.close()"
      ],
      "id": "3CCoidG5jwtx"
    },
    {
      "cell_type": "code",
      "execution_count": 38,
      "metadata": {
        "ExecuteTime": {
          "end_time": "2023-05-19T12:27:39.871557Z",
          "start_time": "2023-05-19T12:27:12.133115Z"
        },
        "id": "biwLyBjhjwtx",
        "colab": {
          "base_uri": "https://localhost:8080/",
          "height": 481
        },
        "outputId": "8e042567-872e-4c9f-cb48-b34f2ec9797b"
      },
      "outputs": [
        {
          "output_type": "display_data",
          "data": {
            "text/plain": [
              "<IPython.core.display.Javascript object>"
            ],
            "application/javascript": [
              "\n",
              "        async function takePhoto(quality) {\n",
              "          const div = document.createElement('div');\n",
              "          const capture = document.createElement('button');\n",
              "          capture.textContent = 'Capture';\n",
              "          div.appendChild(capture);\n",
              "\n",
              "          const video = document.createElement('video');\n",
              "          video.style.display = 'block';\n",
              "          const stream = await navigator.mediaDevices.getUserMedia({video: true});\n",
              "\n",
              "          document.body.appendChild(div);\n",
              "          div.appendChild(video);\n",
              "          video.srcObject = stream;\n",
              "          await video.play();\n",
              "\n",
              "          // Resize the output to fit the video element.\n",
              "          google.colab.output.setIframeHeight(document.documentElement.scrollHeight, true);\n",
              "\n",
              "          // Wait for Capture to be clicked.\n",
              "          await new Promise((resolve) => capture.onclick = resolve);\n",
              "\n",
              "          const canvas = document.createElement('canvas');\n",
              "          canvas.width = video.videoWidth;\n",
              "          canvas.height = video.videoHeight;\n",
              "          canvas.getContext('2d').drawImage(video, 0, 0);\n",
              "          stream.getVideoTracks()[0].stop();\n",
              "          div.remove();\n",
              "          return canvas.toDataURL('image/jpeg', quality);\n",
              "        }\n",
              "        "
            ]
          },
          "metadata": {}
        },
        {
          "output_type": "display_data",
          "data": {
            "text/plain": [
              "<IPython.core.display.Javascript object>"
            ],
            "application/javascript": [
              "\n",
              "        async function takePhoto(quality) {\n",
              "          const div = document.createElement('div');\n",
              "          const capture = document.createElement('button');\n",
              "          capture.textContent = 'Capture';\n",
              "          div.appendChild(capture);\n",
              "\n",
              "          const video = document.createElement('video');\n",
              "          video.style.display = 'block';\n",
              "          const stream = await navigator.mediaDevices.getUserMedia({video: true});\n",
              "\n",
              "          document.body.appendChild(div);\n",
              "          div.appendChild(video);\n",
              "          video.srcObject = stream;\n",
              "          await video.play();\n",
              "\n",
              "          // Resize the output to fit the video element.\n",
              "          google.colab.output.setIframeHeight(document.documentElement.scrollHeight, true);\n",
              "\n",
              "          // Wait for Capture to be clicked.\n",
              "          await new Promise((resolve) => capture.onclick = resolve);\n",
              "\n",
              "          const canvas = document.createElement('canvas');\n",
              "          canvas.width = video.videoWidth;\n",
              "          canvas.height = video.videoHeight;\n",
              "          canvas.getContext('2d').drawImage(video, 0, 0);\n",
              "          stream.getVideoTracks()[0].stop();\n",
              "          div.remove();\n",
              "          return canvas.toDataURL('image/jpeg', quality);\n",
              "        }\n",
              "        "
            ]
          },
          "metadata": {}
        },
        {
          "output_type": "stream",
          "name": "stdout",
          "text": [
            "'GestureRecognition' object has no attribute 'eval'\n"
          ]
        },
        {
          "output_type": "error",
          "ename": "AttributeError",
          "evalue": "ignored",
          "traceback": [
            "\u001b[0;31m---------------------------------------------------------------------------\u001b[0m",
            "\u001b[0;31mAttributeError\u001b[0m                            Traceback (most recent call last)",
            "\u001b[0;32m<ipython-input-38-efee94dd73a9>\u001b[0m in \u001b[0;36m<cell line: 1>\u001b[0;34m()\u001b[0m\n\u001b[0;32m----> 1\u001b[0;31m \u001b[0mstart_game\u001b[0m\u001b[0;34m(\u001b[0m\u001b[0mnum_games\u001b[0m\u001b[0;34m=\u001b[0m\u001b[0;36m5\u001b[0m\u001b[0;34m)\u001b[0m\u001b[0;34m\u001b[0m\u001b[0;34m\u001b[0m\u001b[0m\n\u001b[0m",
            "\u001b[0;32m<ipython-input-37-801130d21217>\u001b[0m in \u001b[0;36mstart_game\u001b[0;34m(num_games)\u001b[0m\n\u001b[1;32m     45\u001b[0m             \u001b[0;31m# grant the page permission to access it.\u001b[0m\u001b[0;34m\u001b[0m\u001b[0;34m\u001b[0m\u001b[0m\n\u001b[1;32m     46\u001b[0m             \u001b[0mprint\u001b[0m\u001b[0;34m(\u001b[0m\u001b[0mstr\u001b[0m\u001b[0;34m(\u001b[0m\u001b[0merr\u001b[0m\u001b[0;34m)\u001b[0m\u001b[0;34m)\u001b[0m\u001b[0;34m\u001b[0m\u001b[0;34m\u001b[0m\u001b[0m\n\u001b[0;32m---> 47\u001b[0;31m             \u001b[0;32mraise\u001b[0m \u001b[0merr\u001b[0m\u001b[0;34m\u001b[0m\u001b[0;34m\u001b[0m\u001b[0m\n\u001b[0m\u001b[1;32m     48\u001b[0m \u001b[0;34m\u001b[0m\u001b[0m\n\u001b[1;32m     49\u001b[0m     \u001b[0mpipe\u001b[0m\u001b[0;34m.\u001b[0m\u001b[0mpipe\u001b[0m\u001b[0;34m.\u001b[0m\u001b[0mclose\u001b[0m\u001b[0;34m(\u001b[0m\u001b[0;34m)\u001b[0m\u001b[0;34m\u001b[0m\u001b[0;34m\u001b[0m\u001b[0m\n",
            "\u001b[0;32m<ipython-input-37-801130d21217>\u001b[0m in \u001b[0;36mstart_game\u001b[0;34m(num_games)\u001b[0m\n\u001b[1;32m     18\u001b[0m             \u001b[0;32mfor\u001b[0m \u001b[0mp\u001b[0m \u001b[0;32min\u001b[0m \u001b[0mparam\u001b[0m\u001b[0;34m:\u001b[0m\u001b[0;34m\u001b[0m\u001b[0;34m\u001b[0m\u001b[0m\n\u001b[1;32m     19\u001b[0m                 \u001b[0;32mif\u001b[0m \u001b[0mp\u001b[0m\u001b[0;34m[\u001b[0m\u001b[0;34m'class'\u001b[0m\u001b[0;34m]\u001b[0m \u001b[0;32mis\u001b[0m \u001b[0;32mnot\u001b[0m \u001b[0;32mNone\u001b[0m\u001b[0;34m:\u001b[0m\u001b[0;34m\u001b[0m\u001b[0;34m\u001b[0m\u001b[0m\n\u001b[0;32m---> 20\u001b[0;31m                     \u001b[0mp\u001b[0m\u001b[0;34m[\u001b[0m\u001b[0;34m'gesture'\u001b[0m\u001b[0;34m]\u001b[0m \u001b[0;34m=\u001b[0m \u001b[0mgest\u001b[0m\u001b[0;34m.\u001b[0m\u001b[0meval\u001b[0m\u001b[0;34m(\u001b[0m\u001b[0mp\u001b[0m\u001b[0;34m[\u001b[0m\u001b[0;34m'angle'\u001b[0m\u001b[0;34m]\u001b[0m\u001b[0;34m)\u001b[0m\u001b[0;34m\u001b[0m\u001b[0;34m\u001b[0m\u001b[0m\n\u001b[0m\u001b[1;32m     21\u001b[0m                     \u001b[0;31m# print(p['class'])\u001b[0m\u001b[0;34m\u001b[0m\u001b[0;34m\u001b[0m\u001b[0m\n\u001b[1;32m     22\u001b[0m                     \u001b[0;31m# print(p['gesture'])\u001b[0m\u001b[0;34m\u001b[0m\u001b[0;34m\u001b[0m\u001b[0m\n",
            "\u001b[0;31mAttributeError\u001b[0m: 'GestureRecognition' object has no attribute 'eval'"
          ]
        }
      ],
      "source": [
        "start_game(num_games=5)"
      ],
      "id": "biwLyBjhjwtx"
    }
  ],
  "metadata": {
    "kernelspec": {
      "display_name": "Python 3 (ipykernel)",
      "language": "python",
      "name": "python3"
    },
    "language_info": {
      "codemirror_mode": {
        "name": "ipython",
        "version": 3
      },
      "file_extension": ".py",
      "mimetype": "text/x-python",
      "name": "python",
      "nbconvert_exporter": "python",
      "pygments_lexer": "ipython3",
      "version": "3.9.1"
    },
    "colab": {
      "provenance": []
    },
    "widgets": {
      "application/vnd.jupyter.widget-state+json": {
        "6dbe33b9f1a445abb3293bf657b12fae": {
          "model_module": "@jupyter-widgets/controls",
          "model_name": "VBoxModel",
          "model_module_version": "1.5.0",
          "state": {
            "_dom_classes": [],
            "_model_module": "@jupyter-widgets/controls",
            "_model_module_version": "1.5.0",
            "_model_name": "VBoxModel",
            "_view_count": null,
            "_view_module": "@jupyter-widgets/controls",
            "_view_module_version": "1.5.0",
            "_view_name": "VBoxView",
            "box_style": "",
            "children": [
              "IPY_MODEL_0374851a408243198c4dcad1044959d4",
              "IPY_MODEL_e87660665d2a4f1a92503f87ea974fc3",
              "IPY_MODEL_5371e0071fae495bb1c9592897f1ccf4"
            ],
            "layout": "IPY_MODEL_c6cc915e6f994733bc78130cbe028657"
          }
        },
        "0374851a408243198c4dcad1044959d4": {
          "model_module": "@jupyter-widgets/controls",
          "model_name": "DropdownModel",
          "model_module_version": "1.5.0",
          "state": {
            "_dom_classes": [],
            "_model_module": "@jupyter-widgets/controls",
            "_model_module_version": "1.5.0",
            "_model_name": "DropdownModel",
            "_options_labels": [
              "Rock",
              "Paper",
              "Scissors",
              "Lizard",
              "Spock"
            ],
            "_view_count": null,
            "_view_module": "@jupyter-widgets/controls",
            "_view_module_version": "1.5.0",
            "_view_name": "DropdownView",
            "description": "Chose:",
            "description_tooltip": null,
            "disabled": false,
            "index": 0,
            "layout": "IPY_MODEL_4c3819168db1404c9341c4166712a9a0",
            "style": "IPY_MODEL_796fc107ef4241469841d521200315f2"
          }
        },
        "e87660665d2a4f1a92503f87ea974fc3": {
          "model_module": "@jupyter-widgets/controls",
          "model_name": "ButtonModel",
          "model_module_version": "1.5.0",
          "state": {
            "_dom_classes": [],
            "_model_module": "@jupyter-widgets/controls",
            "_model_module_version": "1.5.0",
            "_model_name": "ButtonModel",
            "_view_count": null,
            "_view_module": "@jupyter-widgets/controls",
            "_view_module_version": "1.5.0",
            "_view_name": "ButtonView",
            "button_style": "success",
            "description": "Play!",
            "disabled": false,
            "icon": "check",
            "layout": "IPY_MODEL_349f091e76cb498dab8e6180b6eb53fd",
            "style": "IPY_MODEL_e6d4c5294b0745c4839e940a23375fbf",
            "tooltip": ""
          }
        },
        "5371e0071fae495bb1c9592897f1ccf4": {
          "model_module": "@jupyter-widgets/output",
          "model_name": "OutputModel",
          "model_module_version": "1.0.0",
          "state": {
            "_dom_classes": [],
            "_model_module": "@jupyter-widgets/output",
            "_model_module_version": "1.0.0",
            "_model_name": "OutputModel",
            "_view_count": null,
            "_view_module": "@jupyter-widgets/output",
            "_view_module_version": "1.0.0",
            "_view_name": "OutputView",
            "layout": "IPY_MODEL_26326f1f8f0e4d07b7388894b2a2c4c2",
            "msg_id": "",
            "outputs": [
              {
                "output_type": "stream",
                "name": "stdout",
                "text": [
                  "You chose\n",
                  "\n",
                  "    ______           _\n",
                  "    | ___ \\         | |\n",
                  "    | |_/ /___   ___| | __\n",
                  "    |    // _ \\ / __| |/ /\n",
                  "    | |\\ \\ (_) | (__|   <\n",
                  "    \\_| \\_\\___/ \\___|_|\\_\\\n",
                  "\n",
                  "     \n",
                  "The computer chose\n",
                  "\n",
                  "     _     _                      _\n",
                  "    | |   (_)                    | |\n",
                  "    | |    _ __________ _ _ __ __| |\n",
                  "    | |   | |_  /_  / _` | '__/ _` |\n",
                  "    | |___| |/ / / / (_| | | | (_| |\n",
                  "    \\_____/_/___/___\\__,_|_|  \\__,_|\n",
                  "     \n",
                  "\n",
                  " _   _ _   ____  ___  ___   _   _\n",
                  "| | | | | | |  \\/  | / _ \\ | \\ | |\n",
                  "| |_| | | | | .  . |/ /_\\ \\|  \\| |\n",
                  "|  _  | | | | |\\/| ||  _  || . ` |\n",
                  "| | | | |_| | |  | || | | || |\\  |\n",
                  "\\_| |_/\\___/\\_|  |_/\\_| |_/\\_| \\_/\n",
                  "\n",
                  "\n",
                  " _    _ _____ _   _  _____   _ _ _\n",
                  "| |  | |_   _| \\ | |/  ___| | | | |\n",
                  "| |  | | | | |  \\| |\\ `--.  | | | |\n",
                  "| |/\\| | | | | . ` | `--. \\ | | | |\n",
                  "\\  /\\  /_| |_| |\\  |/\\__/ / |_|_|_|\n",
                  " \\/  \\/ \\___/\\_| \\_/\\____/  (_|_|_)\n",
                  "\n",
                  "\n",
                  "        __\n",
                  "       / _|\n",
                  "      | |_ ___  _ __   _ __   _____      __\n",
                  "      |  _/ _ \\| '__| | '_ \\ / _ \\ \\ /\\ / /\n",
                  " _ _ _| || (_) | |    | | | | (_) \\ V  V /   _ _ _\n",
                  "(_|_|_)_| \\___/|_|    |_| |_|\\___/ \\_/\\_/   (_|_|_)\n",
                  "\n",
                  "                                                   \n"
                ]
              }
            ]
          }
        },
        "c6cc915e6f994733bc78130cbe028657": {
          "model_module": "@jupyter-widgets/base",
          "model_name": "LayoutModel",
          "model_module_version": "1.2.0",
          "state": {
            "_model_module": "@jupyter-widgets/base",
            "_model_module_version": "1.2.0",
            "_model_name": "LayoutModel",
            "_view_count": null,
            "_view_module": "@jupyter-widgets/base",
            "_view_module_version": "1.2.0",
            "_view_name": "LayoutView",
            "align_content": null,
            "align_items": null,
            "align_self": null,
            "border": null,
            "bottom": null,
            "display": null,
            "flex": null,
            "flex_flow": null,
            "grid_area": null,
            "grid_auto_columns": null,
            "grid_auto_flow": null,
            "grid_auto_rows": null,
            "grid_column": null,
            "grid_gap": null,
            "grid_row": null,
            "grid_template_areas": null,
            "grid_template_columns": null,
            "grid_template_rows": null,
            "height": null,
            "justify_content": null,
            "justify_items": null,
            "left": null,
            "margin": null,
            "max_height": null,
            "max_width": null,
            "min_height": null,
            "min_width": null,
            "object_fit": null,
            "object_position": null,
            "order": null,
            "overflow": null,
            "overflow_x": null,
            "overflow_y": null,
            "padding": null,
            "right": null,
            "top": null,
            "visibility": null,
            "width": null
          }
        },
        "4c3819168db1404c9341c4166712a9a0": {
          "model_module": "@jupyter-widgets/base",
          "model_name": "LayoutModel",
          "model_module_version": "1.2.0",
          "state": {
            "_model_module": "@jupyter-widgets/base",
            "_model_module_version": "1.2.0",
            "_model_name": "LayoutModel",
            "_view_count": null,
            "_view_module": "@jupyter-widgets/base",
            "_view_module_version": "1.2.0",
            "_view_name": "LayoutView",
            "align_content": null,
            "align_items": null,
            "align_self": null,
            "border": null,
            "bottom": null,
            "display": null,
            "flex": null,
            "flex_flow": null,
            "grid_area": null,
            "grid_auto_columns": null,
            "grid_auto_flow": null,
            "grid_auto_rows": null,
            "grid_column": null,
            "grid_gap": null,
            "grid_row": null,
            "grid_template_areas": null,
            "grid_template_columns": null,
            "grid_template_rows": null,
            "height": null,
            "justify_content": null,
            "justify_items": null,
            "left": null,
            "margin": null,
            "max_height": null,
            "max_width": null,
            "min_height": null,
            "min_width": null,
            "object_fit": null,
            "object_position": null,
            "order": null,
            "overflow": null,
            "overflow_x": null,
            "overflow_y": null,
            "padding": null,
            "right": null,
            "top": null,
            "visibility": null,
            "width": null
          }
        },
        "796fc107ef4241469841d521200315f2": {
          "model_module": "@jupyter-widgets/controls",
          "model_name": "DescriptionStyleModel",
          "model_module_version": "1.5.0",
          "state": {
            "_model_module": "@jupyter-widgets/controls",
            "_model_module_version": "1.5.0",
            "_model_name": "DescriptionStyleModel",
            "_view_count": null,
            "_view_module": "@jupyter-widgets/base",
            "_view_module_version": "1.2.0",
            "_view_name": "StyleView",
            "description_width": ""
          }
        },
        "349f091e76cb498dab8e6180b6eb53fd": {
          "model_module": "@jupyter-widgets/base",
          "model_name": "LayoutModel",
          "model_module_version": "1.2.0",
          "state": {
            "_model_module": "@jupyter-widgets/base",
            "_model_module_version": "1.2.0",
            "_model_name": "LayoutModel",
            "_view_count": null,
            "_view_module": "@jupyter-widgets/base",
            "_view_module_version": "1.2.0",
            "_view_name": "LayoutView",
            "align_content": null,
            "align_items": null,
            "align_self": null,
            "border": null,
            "bottom": null,
            "display": null,
            "flex": null,
            "flex_flow": null,
            "grid_area": null,
            "grid_auto_columns": null,
            "grid_auto_flow": null,
            "grid_auto_rows": null,
            "grid_column": null,
            "grid_gap": null,
            "grid_row": null,
            "grid_template_areas": null,
            "grid_template_columns": null,
            "grid_template_rows": null,
            "height": null,
            "justify_content": null,
            "justify_items": null,
            "left": null,
            "margin": null,
            "max_height": null,
            "max_width": null,
            "min_height": null,
            "min_width": null,
            "object_fit": null,
            "object_position": null,
            "order": null,
            "overflow": null,
            "overflow_x": null,
            "overflow_y": null,
            "padding": null,
            "right": null,
            "top": null,
            "visibility": null,
            "width": null
          }
        },
        "e6d4c5294b0745c4839e940a23375fbf": {
          "model_module": "@jupyter-widgets/controls",
          "model_name": "ButtonStyleModel",
          "model_module_version": "1.5.0",
          "state": {
            "_model_module": "@jupyter-widgets/controls",
            "_model_module_version": "1.5.0",
            "_model_name": "ButtonStyleModel",
            "_view_count": null,
            "_view_module": "@jupyter-widgets/base",
            "_view_module_version": "1.2.0",
            "_view_name": "StyleView",
            "button_color": null,
            "font_weight": ""
          }
        },
        "26326f1f8f0e4d07b7388894b2a2c4c2": {
          "model_module": "@jupyter-widgets/base",
          "model_name": "LayoutModel",
          "model_module_version": "1.2.0",
          "state": {
            "_model_module": "@jupyter-widgets/base",
            "_model_module_version": "1.2.0",
            "_model_name": "LayoutModel",
            "_view_count": null,
            "_view_module": "@jupyter-widgets/base",
            "_view_module_version": "1.2.0",
            "_view_name": "LayoutView",
            "align_content": null,
            "align_items": null,
            "align_self": null,
            "border": "1px solid black",
            "bottom": null,
            "display": null,
            "flex": null,
            "flex_flow": null,
            "grid_area": null,
            "grid_auto_columns": null,
            "grid_auto_flow": null,
            "grid_auto_rows": null,
            "grid_column": null,
            "grid_gap": null,
            "grid_row": null,
            "grid_template_areas": null,
            "grid_template_columns": null,
            "grid_template_rows": null,
            "height": null,
            "justify_content": null,
            "justify_items": null,
            "left": null,
            "margin": null,
            "max_height": null,
            "max_width": null,
            "min_height": null,
            "min_width": null,
            "object_fit": null,
            "object_position": null,
            "order": null,
            "overflow": null,
            "overflow_x": null,
            "overflow_y": null,
            "padding": null,
            "right": null,
            "top": null,
            "visibility": null,
            "width": null
          }
        }
      }
    }
  },
  "nbformat": 4,
  "nbformat_minor": 5
}