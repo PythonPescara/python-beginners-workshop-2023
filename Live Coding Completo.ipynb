{
 "cells": [
  {
   "cell_type": "markdown",
   "metadata": {
    "id": "b35fe87b"
   },
   "source": [
    "# Rock - Paper - Scissors - Lizard - Spock\n",
    "\n",
    "Benvenuto al Beginners'Day del [Pycon 23](https://pycon.it/)! In questo workshop imparerai le basi della programmazione con il linguaggio Python sviluppando da zero svariate versioni del classico gioco Sasso-Carta-Forbice. Dalla versione classica alla version **top** in cui tramite Machine Learning il nostro programma riconoscerà da webcam la nostra mossa, tutto è a portata di mano."
   ]
  },
  {
   "cell_type": "markdown",
   "metadata": {
    "id": "78e5f376"
   },
   "source": [
    "## Task 1\n",
    "\n",
    "Nella prossima cella studieremo:\n",
    "\n",
    "*   cos'è una variabile in Python\n",
    "*   quali sono i tipi di variabile che è possibile avere in Python\n",
    "*   come è possible prendere un input da parte dell'utente\n",
    "*   come è possibile creare una lista con le possibili scelte di gioco\n",
    "*   come è possibile generare la mossa del computer in maniera casuale"
   ]
  },
  {
   "cell_type": "code",
   "execution_count": 7,
   "metadata": {
    "id": "6cfa68db",
    "ExecuteTime": {
     "end_time": "2023-11-13T18:04:38.993136852Z",
     "start_time": "2023-11-13T18:04:38.836371914Z"
    }
   },
   "outputs": [],
   "source": [
    "integer_number = 10\n",
    "float_number = 0.13\n",
    "boolean = True\n",
    "string = 'pycon'"
   ]
  },
  {
   "cell_type": "code",
   "execution_count": 8,
   "metadata": {
    "colab": {
     "base_uri": "https://localhost:8080/"
    },
    "executionInfo": {
     "elapsed": 7,
     "status": "ok",
     "timestamp": 1699709841312,
     "user": {
      "displayName": "Moreno Mazzocchetti",
      "userId": "18050587376363424786"
     },
     "user_tz": -60
    },
    "id": "DLo0HbU8jwtm",
    "outputId": "8fb84091-34ba-4dbd-94ea-3e2ccad4f316",
    "ExecuteTime": {
     "end_time": "2023-11-13T18:04:39.124866047Z",
     "start_time": "2023-11-13T18:04:38.851382834Z"
    }
   },
   "outputs": [
    {
     "name": "stdout",
     "output_type": "stream",
     "text": [
      "Ciao Mondo :)\n"
     ]
    }
   ],
   "source": [
    "print('Ciao Mondo :)')"
   ]
  },
  {
   "cell_type": "code",
   "execution_count": 9,
   "metadata": {
    "colab": {
     "base_uri": "https://localhost:8080/"
    },
    "executionInfo": {
     "elapsed": 279,
     "status": "ok",
     "timestamp": 1699709841586,
     "user": {
      "displayName": "Moreno Mazzocchetti",
      "userId": "18050587376363424786"
     },
     "user_tz": -60
    },
    "id": "0OX9TkPDjwtm",
    "outputId": "236a58da-c29b-46cb-8eab-b2e50a15556d",
    "ExecuteTime": {
     "end_time": "2023-11-13T18:04:39.125436876Z",
     "start_time": "2023-11-13T18:04:38.852521067Z"
    }
   },
   "outputs": [
    {
     "name": "stdout",
     "output_type": "stream",
     "text": [
      "10\n"
     ]
    }
   ],
   "source": [
    "print(integer_number)"
   ]
  },
  {
   "cell_type": "code",
   "execution_count": 10,
   "metadata": {
    "colab": {
     "base_uri": "https://localhost:8080/"
    },
    "executionInfo": {
     "elapsed": 5,
     "status": "ok",
     "timestamp": 1699709841586,
     "user": {
      "displayName": "Moreno Mazzocchetti",
      "userId": "18050587376363424786"
     },
     "user_tz": -60
    },
    "id": "W70GvccNjwtn",
    "outputId": "a87c9464-85b8-4086-a9d4-d5cbceea3b2c",
    "ExecuteTime": {
     "end_time": "2023-11-13T18:04:39.127965261Z",
     "start_time": "2023-11-13T18:04:38.864699852Z"
    }
   },
   "outputs": [
    {
     "name": "stdout",
     "output_type": "stream",
     "text": [
      "pycon 10\n"
     ]
    }
   ],
   "source": [
    "print(string, integer_number)"
   ]
  },
  {
   "cell_type": "code",
   "execution_count": 11,
   "metadata": {
    "colab": {
     "base_uri": "https://localhost:8080/"
    },
    "executionInfo": {
     "elapsed": 2795,
     "status": "ok",
     "timestamp": 1699709844379,
     "user": {
      "displayName": "Moreno Mazzocchetti",
      "userId": "18050587376363424786"
     },
     "user_tz": -60
    },
    "id": "sCQu4LkLjwtn",
    "outputId": "c5b694ec-2b17-4f51-f402-a6eff4790264",
    "ExecuteTime": {
     "end_time": "2023-11-13T18:04:40.907090654Z",
     "start_time": "2023-11-13T18:04:38.865117857Z"
    }
   },
   "outputs": [],
   "source": [
    "risultato = input('digita un numero?')"
   ]
  },
  {
   "cell_type": "code",
   "execution_count": 12,
   "metadata": {
    "colab": {
     "base_uri": "https://localhost:8080/"
    },
    "executionInfo": {
     "elapsed": 8,
     "status": "ok",
     "timestamp": 1699709844379,
     "user": {
      "displayName": "Moreno Mazzocchetti",
      "userId": "18050587376363424786"
     },
     "user_tz": -60
    },
    "id": "Pslrt8Nwjwto",
    "outputId": "57c4624b-b1e5-463a-c625-6e40ba2d13ce",
    "ExecuteTime": {
     "end_time": "2023-11-13T18:04:40.926291350Z",
     "start_time": "2023-11-13T18:04:40.747132030Z"
    }
   },
   "outputs": [
    {
     "name": "stdout",
     "output_type": "stream",
     "text": [
      "5\n"
     ]
    }
   ],
   "source": [
    "print(risultato)"
   ]
  },
  {
   "cell_type": "code",
   "execution_count": 13,
   "metadata": {
    "colab": {
     "base_uri": "https://localhost:8080/"
    },
    "executionInfo": {
     "elapsed": 2801,
     "status": "ok",
     "timestamp": 1699709847174,
     "user": {
      "displayName": "Moreno Mazzocchetti",
      "userId": "18050587376363424786"
     },
     "user_tz": -60
    },
    "id": "hy51y-owjwto",
    "outputId": "a2168225-1f45-49b1-cc33-f2c021a60afa",
    "ExecuteTime": {
     "end_time": "2023-11-13T18:04:43.165947154Z",
     "start_time": "2023-11-13T18:04:40.792637905Z"
    }
   },
   "outputs": [],
   "source": [
    "user_action = input(\"Enter a choice (rock, paper, scissors): \")"
   ]
  },
  {
   "cell_type": "code",
   "execution_count": 14,
   "metadata": {
    "id": "sO8y1DHqjwto",
    "ExecuteTime": {
     "end_time": "2023-11-13T18:04:43.166433172Z",
     "start_time": "2023-11-13T18:04:43.113625232Z"
    }
   },
   "outputs": [],
   "source": [
    "import random"
   ]
  },
  {
   "cell_type": "code",
   "execution_count": 15,
   "metadata": {
    "id": "NxgXYbZ-jwtp",
    "ExecuteTime": {
     "end_time": "2023-11-13T18:04:43.166621465Z",
     "start_time": "2023-11-13T18:04:43.118715516Z"
    }
   },
   "outputs": [],
   "source": [
    "possible_actions = [\"rock\", \"paper\", \"scissors\"]\n",
    "computer_action = random.choice(possible_actions)"
   ]
  },
  {
   "cell_type": "code",
   "execution_count": 16,
   "metadata": {
    "colab": {
     "base_uri": "https://localhost:8080/"
    },
    "executionInfo": {
     "elapsed": 9,
     "status": "ok",
     "timestamp": 1699709847174,
     "user": {
      "displayName": "Moreno Mazzocchetti",
      "userId": "18050587376363424786"
     },
     "user_tz": -60
    },
    "id": "EKBwgQm1jwtp",
    "outputId": "14137bef-862d-4d35-9cc8-5e7b0fd9b847",
    "ExecuteTime": {
     "end_time": "2023-11-13T18:04:43.167020808Z",
     "start_time": "2023-11-13T18:04:43.128006488Z"
    }
   },
   "outputs": [
    {
     "name": "stdout",
     "output_type": "stream",
     "text": [
      "\n",
      "You chose rock, computer chose paper.\n",
      "\n"
     ]
    }
   ],
   "source": [
    "print(f\"\\nYou chose {user_action}, computer chose {computer_action}.\\n\")"
   ]
  },
  {
   "cell_type": "markdown",
   "metadata": {
    "id": "f9faebb5"
   },
   "source": [
    "## Task 2\n",
    "\n",
    "In questa cella confronteremo le mosse del computer e del giocatore per capire **chi ha vinto** e mostrare un messaggio adeguato"
   ]
  },
  {
   "cell_type": "code",
   "execution_count": 17,
   "metadata": {
    "colab": {
     "base_uri": "https://localhost:8080/"
    },
    "executionInfo": {
     "elapsed": 5,
     "status": "ok",
     "timestamp": 1699709847174,
     "user": {
      "displayName": "Moreno Mazzocchetti",
      "userId": "18050587376363424786"
     },
     "user_tz": -60
    },
    "id": "90af3eea",
    "outputId": "dd03b6a2-38f4-43e5-9807-ce912ff62e13",
    "ExecuteTime": {
     "end_time": "2023-11-13T18:04:43.215993559Z",
     "start_time": "2023-11-13T18:04:43.172419296Z"
    }
   },
   "outputs": [
    {
     "name": "stdout",
     "output_type": "stream",
     "text": [
      "Paper covers rock! You lose.\n"
     ]
    }
   ],
   "source": [
    "if user_action == computer_action:\n",
    "    print(f\"Both players selected {user_action}. It's a tie!\")\n",
    "elif user_action == \"rock\":\n",
    "    if computer_action == \"scissors\":\n",
    "        print(\"Rock smashes scissors! You win!\")\n",
    "    else:\n",
    "        print(\"Paper covers rock! You lose.\")\n",
    "elif user_action == \"paper\":\n",
    "    if computer_action == \"rock\":\n",
    "        print(\"Paper covers rock! You win!\")\n",
    "    else:\n",
    "        print(\"Scissors cuts paper! You lose.\")\n",
    "elif user_action == \"scissors\":\n",
    "    if computer_action == \"paper\":\n",
    "        print(\"Scissors cuts paper! You win!\")\n",
    "    else:\n",
    "        print(\"Rock smashes scissors! You lose.\")"
   ]
  },
  {
   "cell_type": "markdown",
   "metadata": {
    "id": "f9182a9f"
   },
   "source": [
    "### Task 2a - Ripetiamo le manche di gioco per fare una partita vera e propria\n",
    "\n",
    "In questa cella useremo un **loop** Python (in particolare un ciclo `while`) per **giocare un numero indefinito di manche**. In particolare andremo a ripetere all'interno del ciclo `while` tutto quello che abbiamo fatto finora per la singola manche:\n",
    "- prendere in input dall'utente una scelta\n",
    "- generare la mossa del computer\n",
    "- confrontare le mosse\n",
    "- mostrare un output\n",
    "\n",
    "A queste operazioni ne aggiungeremo una: **chiediamo all'utente se vuole giocare ancora e, in caso negativo, usciamo dal loop di gioco**."
   ]
  },
  {
   "cell_type": "code",
   "execution_count": 18,
   "metadata": {
    "colab": {
     "base_uri": "https://localhost:8080/"
    },
    "executionInfo": {
     "elapsed": 4668,
     "status": "ok",
     "timestamp": 1699709851839,
     "user": {
      "displayName": "Moreno Mazzocchetti",
      "userId": "18050587376363424786"
     },
     "user_tz": -60
    },
    "id": "47580fd9",
    "outputId": "921ac4d0-4b70-40ad-b75a-dd8041c5a911",
    "ExecuteTime": {
     "end_time": "2023-11-13T18:04:46.636166168Z",
     "start_time": "2023-11-13T18:04:43.173013837Z"
    }
   },
   "outputs": [
    {
     "name": "stdout",
     "output_type": "stream",
     "text": [
      "\n",
      "You chose rock, computer chose rock.\n",
      "\n",
      "Both players selected rock. It's a tie!\n"
     ]
    }
   ],
   "source": [
    "while True:\n",
    "    user_action = input(\"Enter a choice (rock, paper, scissors): \")\n",
    "    possible_actions = [\"rock\", \"paper\", \"scissors\"]\n",
    "    computer_action = random.choice(possible_actions)\n",
    "    print(f\"\\nYou chose {user_action}, computer chose {computer_action}.\\n\")\n",
    "\n",
    "    if user_action == computer_action:\n",
    "        print(f\"Both players selected {user_action}. It's a tie!\")\n",
    "    elif user_action == \"rock\":\n",
    "        if computer_action == \"scissors\":\n",
    "            print(\"Rock smashes scissors! You win!\")\n",
    "        else:\n",
    "            print(\"Paper covers rock! You lose.\")\n",
    "    elif user_action == \"paper\":\n",
    "        if computer_action == \"rock\":\n",
    "            print(\"Paper covers rock! You win!\")\n",
    "        else:\n",
    "            print(\"Scissors cuts paper! You lose.\")\n",
    "    elif user_action == \"scissors\":\n",
    "        if computer_action == \"paper\":\n",
    "            print(\"Scissors cuts paper! You win!\")\n",
    "        else:\n",
    "            print(\"Rock smashes scissors! You lose.\")\n",
    "\n",
    "    play_again = input(\"Play again? (y/n): \")\n",
    "    if play_again.lower() != \"y\":\n",
    "        break"
   ]
  },
  {
   "cell_type": "markdown",
   "metadata": {
    "id": "dd16cb05"
   },
   "source": [
    "## Task 3: Ottimizzazioni nel codice\n",
    "\n",
    "Ora che abbiamo una versione di base del gioco in cui possiamo giocare contro il computer e anche aumentare la durata di una partita, cerchiamo di essere un po'più **pro**.\n",
    "\n",
    "Andremo nelle prossime celle ad implementare una serie di ottimizzazioni che serviranno a rendere il nostro codice più manutenibile e leggibile."
   ]
  },
  {
   "cell_type": "markdown",
   "metadata": {
    "id": "2dfe73b6"
   },
   "source": [
    "### Task 3a: Creiamo un enum\n",
    "\n",
    "In questa cella andiamo a generalizzare il concetto di \"azione\" creando una classe che **eredita** i comportamenti di `IntEnum` di Python"
   ]
  },
  {
   "cell_type": "code",
   "execution_count": 19,
   "metadata": {
    "id": "0ec721b6",
    "ExecuteTime": {
     "end_time": "2023-11-13T18:04:46.649817557Z",
     "start_time": "2023-11-13T18:04:46.560784549Z"
    }
   },
   "outputs": [],
   "source": [
    "from enum import IntEnum\n",
    "\n",
    "class Action(IntEnum):\n",
    "    Rock = 0\n",
    "    Paper = 1\n",
    "    Scissors = 2"
   ]
  },
  {
   "cell_type": "code",
   "execution_count": 20,
   "metadata": {
    "colab": {
     "base_uri": "https://localhost:8080/"
    },
    "executionInfo": {
     "elapsed": 10,
     "status": "ok",
     "timestamp": 1699709851839,
     "user": {
      "displayName": "Moreno Mazzocchetti",
      "userId": "18050587376363424786"
     },
     "user_tz": -60
    },
    "id": "4BTg9ygOjwtq",
    "outputId": "fbfc8ae2-0cfe-42cd-ce09-0426001729cc",
    "ExecuteTime": {
     "end_time": "2023-11-13T18:04:46.651489119Z",
     "start_time": "2023-11-13T18:04:46.605325091Z"
    }
   },
   "outputs": [
    {
     "name": "stdout",
     "output_type": "stream",
     "text": [
      "Action.Rock == Action.Rock True\n",
      "Action.Rock == Action(0) True\n",
      "Action(0) 0\n"
     ]
    }
   ],
   "source": [
    "print('Action.Rock == Action.Rock', Action.Rock == Action.Rock)\n",
    "print('Action.Rock == Action(0)', Action.Rock == Action(0))\n",
    "print('Action(0)', Action(0))"
   ]
  },
  {
   "cell_type": "markdown",
   "metadata": {
    "id": "92eea47a"
   },
   "source": [
    "### Task 3b: Usiamo delle funzioni per ottimizzare il codice\n",
    "\n",
    "Tramite l'utilizzo di funzioni dividiamo il nostro programma principale in \"blocchi\" di codice che potranno essere richiamati in qualsiasi momento ne abbiamo bisogno. In particolare il nostro gioco si può suddividere in 3 fasi:\n",
    "\n",
    "- Fai giocare l'utente -> `get_user_selection()`\n",
    "- Fai giocare il computer -> `get_computer_selection()`\n",
    "- Decidi chi ha vinto -> `determine_winner(user_selection, computer_selection)`"
   ]
  },
  {
   "cell_type": "code",
   "execution_count": 21,
   "metadata": {
    "id": "08c5263b",
    "ExecuteTime": {
     "end_time": "2023-11-13T18:04:46.651716115Z",
     "start_time": "2023-11-13T18:04:46.605757408Z"
    }
   },
   "outputs": [],
   "source": [
    "def get_user_selection():\n",
    "    user_input = input(\"Enter a choice (rock[0], paper[1], scissors[2]): \")\n",
    "    selection = int(user_input)\n",
    "    action = Action(selection)\n",
    "    return action\n",
    "\n",
    "\n",
    "def get_user_selection():\n",
    "    choices = [f\"{action.name}[{action.value}]\" for action in Action]\n",
    "    choices_str = \", \".join(choices)\n",
    "    selection = int(input(f\"Enter a choice ({choices_str}): \"))\n",
    "    action = Action(selection)\n",
    "    return action"
   ]
  },
  {
   "cell_type": "code",
   "execution_count": 22,
   "metadata": {
    "id": "hldiDTxqjwtr",
    "ExecuteTime": {
     "end_time": "2023-11-13T18:04:46.651876922Z",
     "start_time": "2023-11-13T18:04:46.606029436Z"
    }
   },
   "outputs": [],
   "source": [
    "def get_computer_selection():\n",
    "    selection = random.randint(0, len(Action) - 1)\n",
    "    action = Action(selection)\n",
    "    return action"
   ]
  },
  {
   "cell_type": "code",
   "execution_count": 23,
   "metadata": {
    "id": "eMYFUSiojwtr",
    "ExecuteTime": {
     "end_time": "2023-11-13T18:04:46.652029994Z",
     "start_time": "2023-11-13T18:04:46.606307039Z"
    }
   },
   "outputs": [],
   "source": [
    "def determine_winner(user_action, computer_action):\n",
    "    if user_action == computer_action:\n",
    "        print(f\"Both players selected {user_action.name}. It's a tie!\")\n",
    "    elif user_action == Action.Rock:\n",
    "        if computer_action == Action.Scissors:\n",
    "            print(\"Rock smashes scissors! You win!\")\n",
    "        else:\n",
    "            print(\"Paper covers rock! You lose.\")\n",
    "    elif user_action == Action.Paper:\n",
    "        if computer_action == Action.Rock:\n",
    "            print(\"Paper covers rock! You win!\")\n",
    "        else:\n",
    "            print(\"Scissors cuts paper! You lose.\")\n",
    "    elif user_action == Action.Scissors:\n",
    "        if computer_action == Action.Paper:\n",
    "            print(\"Scissors cuts paper! You win!\")\n",
    "        else:\n",
    "            print(\"Rock smashes scissors! You lose.\")"
   ]
  },
  {
   "cell_type": "markdown",
   "metadata": {
    "id": "4ca7428d"
   },
   "source": [
    "Una volta create queste funzioni possiamo crearne un'unica che racchiuda tutta la logica di gioco che possiamo invocare (o chiamare) ogni volta che vogliamo iniziare una nuova partita:\n",
    "\n",
    "- `start_game()`\n"
   ]
  },
  {
   "cell_type": "code",
   "execution_count": 24,
   "metadata": {
    "id": "8ebfa484",
    "ExecuteTime": {
     "end_time": "2023-11-13T18:04:46.652231182Z",
     "start_time": "2023-11-13T18:04:46.606599033Z"
    }
   },
   "outputs": [],
   "source": [
    "def start_game():\n",
    "    while True:\n",
    "        try:\n",
    "            user_action = get_user_selection()\n",
    "        except ValueError:\n",
    "            range_str = f\"[0, {len(Action) - 1}]\"\n",
    "            print(f\"Invalid selection. Enter a value in range {range_str}\")\n",
    "            continue\n",
    "\n",
    "        computer_action = get_computer_selection()\n",
    "        determine_winner(user_action, computer_action)\n",
    "\n",
    "        play_again = input(\"Play again? (y/n): \")\n",
    "        if play_again.lower() != \"y\":\n",
    "            break"
   ]
  },
  {
   "cell_type": "code",
   "execution_count": 25,
   "metadata": {
    "colab": {
     "base_uri": "https://localhost:8080/"
    },
    "executionInfo": {
     "elapsed": 11137,
     "status": "ok",
     "timestamp": 1699709862968,
     "user": {
      "displayName": "Moreno Mazzocchetti",
      "userId": "18050587376363424786"
     },
     "user_tz": -60
    },
    "id": "I3BM0Z4Kjwtr",
    "outputId": "a102b536-8581-40b3-9aed-3e9eea5c921d",
    "ExecuteTime": {
     "end_time": "2023-11-13T18:04:52.606578937Z",
     "start_time": "2023-11-13T18:04:46.606959467Z"
    }
   },
   "outputs": [
    {
     "name": "stdout",
     "output_type": "stream",
     "text": [
      "Invalid selection. Enter a value in range [0, 2]\n",
      "Paper covers rock! You lose.\n"
     ]
    }
   ],
   "source": [
    "start_game()"
   ]
  },
  {
   "cell_type": "markdown",
   "metadata": {
    "id": "6955e8bc"
   },
   "source": [
    "### Task 3c: Creiamo un dizionario con le mosse vincenti\n",
    "\n",
    "Creiamo un dizionario in cui avremo una coppia chiave/valore per ogni possibile mossa. In particolare:\n",
    "- la **chiave** sarà l'azione specificata nella nostra classe `Action`\n",
    "- il **valore** sarà **una lista** contenente le azioni della classe `Action` che *perdono* contro la mossa specificata come chiave"
   ]
  },
  {
   "cell_type": "code",
   "execution_count": 26,
   "metadata": {
    "id": "96893f8d",
    "ExecuteTime": {
     "end_time": "2023-11-13T18:04:52.607074048Z",
     "start_time": "2023-11-13T18:04:52.518501129Z"
    }
   },
   "outputs": [],
   "source": [
    "victories = {\n",
    "    Action.Rock: [Action.Scissors],  # Rock beats scissors\n",
    "    Action.Paper: [Action.Rock],  # Paper beats rock\n",
    "    Action.Scissors: [Action.Paper]  # Scissors beats paper\n",
    "}"
   ]
  },
  {
   "cell_type": "markdown",
   "metadata": {
    "id": "c3205d3c"
   },
   "source": [
    "### Task 3d: Usiamo il dizionario e l'operatore `in` per semplificare i controlli"
   ]
  },
  {
   "cell_type": "code",
   "execution_count": 27,
   "metadata": {
    "id": "dce77a8a",
    "ExecuteTime": {
     "end_time": "2023-11-13T18:04:52.607499997Z",
     "start_time": "2023-11-13T18:04:52.561389938Z"
    }
   },
   "outputs": [],
   "source": [
    "def determine_winner(user_action, computer_action):\n",
    "    print(f\"You chose {user_action.name}. The computer chose {computer_action.name}.\")\n",
    "    defeats = victories[user_action]\n",
    "    if user_action == computer_action:\n",
    "        print(f\"Both players selected {user_action.name}. It's a tie!\")\n",
    "    elif computer_action in defeats:\n",
    "        print(f\"{user_action.name} beats {computer_action.name}! You win!\")\n",
    "    else:\n",
    "        print(f\"{computer_action.name} beats {user_action.name}! You lose.\")"
   ]
  },
  {
   "cell_type": "code",
   "execution_count": 28,
   "metadata": {
    "colab": {
     "base_uri": "https://localhost:8080/"
    },
    "executionInfo": {
     "elapsed": 11858,
     "status": "ok",
     "timestamp": 1699709874816,
     "user": {
      "displayName": "Moreno Mazzocchetti",
      "userId": "18050587376363424786"
     },
     "user_tz": -60
    },
    "id": "cv6L7ahtjwtr",
    "outputId": "609f516f-00c3-42ae-ba9e-1496fc56cae8",
    "ExecuteTime": {
     "end_time": "2023-11-13T18:04:58.398493928Z",
     "start_time": "2023-11-13T18:04:52.561931229Z"
    }
   },
   "outputs": [
    {
     "name": "stdout",
     "output_type": "stream",
     "text": [
      "Invalid selection. Enter a value in range [0, 2]\n",
      "Invalid selection. Enter a value in range [0, 2]\n",
      "Invalid selection. Enter a value in range [0, 2]\n",
      "Invalid selection. Enter a value in range [0, 2]\n",
      "You chose Rock. The computer chose Scissors.\n",
      "Rock beats Scissors! You win!\n"
     ]
    }
   ],
   "source": [
    "start_game()"
   ]
  },
  {
   "cell_type": "markdown",
   "metadata": {
    "id": "ee1b1835"
   },
   "source": [
    "### Task 3e: Aggiungiamo le altre mosse: `lizard` e `spock`\n",
    "\n",
    "È importante notare come grazie alle ottimizzazioni già fatte **l'aggiunta di nuove mosse ci viene *quasi* gratis!**"
   ]
  },
  {
   "cell_type": "code",
   "execution_count": 29,
   "metadata": {
    "id": "60f6e2d5",
    "ExecuteTime": {
     "end_time": "2023-11-13T18:04:58.398911279Z",
     "start_time": "2023-11-13T18:04:58.355044569Z"
    }
   },
   "outputs": [],
   "source": [
    "class Action(IntEnum):\n",
    "    Rock = 0\n",
    "    Paper = 1\n",
    "    Scissors = 2\n",
    "    Lizard = 3\n",
    "    Spock = 4\n",
    "\n",
    "victories = {\n",
    "    Action.Scissors: [Action.Lizard, Action.Paper],\n",
    "    Action.Paper: [Action.Spock, Action.Rock],\n",
    "    Action.Rock: [Action.Lizard, Action.Scissors],\n",
    "    Action.Lizard: [Action.Spock, Action.Paper],\n",
    "    Action.Spock: [Action.Scissors, Action.Rock]\n",
    "}"
   ]
  },
  {
   "cell_type": "markdown",
   "metadata": {
    "id": "67881ce8"
   },
   "source": [
    "### Task 3f: Rendiamo più *catchy* il gioco tramite ASCII art\n",
    "\n",
    "Creeremo due nuovi dizionari:\n",
    "- in `ascii_action` metteremo le ascii art delle mosse\n",
    "- in `ascii_results` metteremo le ascii art dei possibili risultati"
   ]
  },
  {
   "cell_type": "code",
   "execution_count": 30,
   "metadata": {
    "id": "4422813d",
    "ExecuteTime": {
     "end_time": "2023-11-13T18:04:58.399244580Z",
     "start_time": "2023-11-13T18:04:58.363796483Z"
    }
   },
   "outputs": [],
   "source": [
    "ascii_action = {\n",
    "    Action.Scissors: r\"\"\"\n",
    "     _____      _\n",
    "    /  ___|    (_)\n",
    "    \\ `--.  ___ _ ___ ___  ___  _ __ ___\n",
    "     `--. \\/ __| / __/ __|/ _ \\| '__/ __|\n",
    "    /\\__/ / (__| \\__ \\__ \\ (_) | |  \\__ \\\\\n",
    "    \\____/ \\___|_|___/___/\\___/|_|  |___/\n",
    "    \"\"\",\n",
    "    Action.Paper: r\"\"\"\n",
    "    ______\n",
    "    | ___ \\\n",
    "    | |_/ /_ _ _ __   ___ _ __\n",
    "    |  __/ _` | '_ \\ / _ \\ '__|\n",
    "    | | | (_| | |_) |  __/ |\n",
    "    \\_|  \\__,_| .__/ \\___|_|\n",
    "              | |\n",
    "              |_|\n",
    "     \"\"\",\n",
    "    Action.Rock: r\"\"\"\n",
    "    ______           _\n",
    "    | ___ \\         | |\n",
    "    | |_/ /___   ___| | __\n",
    "    |    // _ \\ / __| |/ /\n",
    "    | |\\ \\ (_) | (__|   <\n",
    "    \\_| \\_\\___/ \\___|_|\\_\\\n",
    "\n",
    "     \"\"\",\n",
    "    Action.Lizard: r\"\"\"\n",
    "     _     _                      _\n",
    "    | |   (_)                    | |\n",
    "    | |    _ __________ _ _ __ __| |\n",
    "    | |   | |_  /_  / _` | '__/ _` |\n",
    "    | |___| |/ / / / (_| | | | (_| |\n",
    "    \\_____/_/___/___\\__,_|_|  \\__,_|\n",
    "     \"\"\",\n",
    "    Action.Spock: r\"\"\"\n",
    "     _____                  _\n",
    "    /  ___|                | |\n",
    "    \\ `--. _ __   ___   ___| | __\n",
    "     `--. \\ '_ \\ / _ \\ / __| |/ /\n",
    "    /\\__/ / |_) | (_) | (__|   <\n",
    "    \\____/| .__/ \\___/ \\___|_|\\_\\\\\n",
    "          | |\n",
    "          |_|\n",
    "    \"\"\"\n",
    "}\n",
    "\n",
    "COMPUTER_WIN = -1\n",
    "HUMAN_WIN = 1\n",
    "DRAW = 0\n",
    "ascii_result = {\n",
    "    COMPUTER_WIN: r\"\"\"\n",
    " _____ ________  _________ _   _ _____ ___________\n",
    "/  __ \\  _  |  \\/  || ___ \\ | | |_   _|  ___| ___ \\\\\n",
    "| /  \\/ | | | .  . || |_/ / | | | | | | |__ | |_/ /\n",
    "| |   | | | | |\\/| ||  __/| | | | | | |  __||    /\n",
    "| \\__/\\ \\_/ / |  | || |   | |_| | | | | |___| |\\ \\\n",
    " \\____/\\___/\\_|  |_/\\_|    \\___/  \\_/ \\____/\\_| \\_|\n",
    "\n",
    "\n",
    " _    _ _____ _   _  _____   _ _ _\n",
    "| |  | |_   _| \\ | |/  ___| | | | |\n",
    "| |  | | | | |  \\| |\\ `--.  | | | |\n",
    "| |/\\| | | | | . ` | `--. \\ | | | |\n",
    "\\  /\\  /_| |_| |\\  |/\\__/ / |_|_|_|\n",
    " \\/  \\/ \\___/\\_| \\_/\\____/  (_|_|_)\n",
    "\n",
    "                                                   \"\"\",\n",
    "    HUMAN_WIN: r\"\"\"\n",
    " _   _ _   ____  ___  ___   _   _\n",
    "| | | | | | |  \\/  | / _ \\ | \\ | |\n",
    "| |_| | | | | .  . |/ /_\\ \\|  \\| |\n",
    "|  _  | | | | |\\/| ||  _  || . ` |\n",
    "| | | | |_| | |  | || | | || |\\  |\n",
    "\\_| |_/\\___/\\_|  |_/\\_| |_/\\_| \\_/\n",
    "\n",
    "\n",
    " _    _ _____ _   _  _____   _ _ _\n",
    "| |  | |_   _| \\ | |/  ___| | | | |\n",
    "| |  | | | | |  \\| |\\ `--.  | | | |\n",
    "| |/\\| | | | | . ` | `--. \\ | | | |\n",
    "\\  /\\  /_| |_| |\\  |/\\__/ / |_|_|_|\n",
    " \\/  \\/ \\___/\\_| \\_/\\____/  (_|_|_)\n",
    "\n",
    "\n",
    "        __\n",
    "       / _|\n",
    "      | |_ ___  _ __   _ __   _____      __\n",
    "      |  _/ _ \\| '__| | '_ \\ / _ \\ \\ /\\ / /\n",
    " _ _ _| || (_) | |    | | | | (_) \\ V  V /   _ _ _\n",
    "(_|_|_)_| \\___/|_|    |_| |_|\\___/ \\_/\\_/   (_|_|_)\n",
    "\n",
    "                                                   \"\"\",\n",
    "    DRAW: r\"\"\"\n",
    "         _   _          _\n",
    "        | | (_)        | |\n",
    "  __ _  | |_ _  ___  __| |   __ _  __ _ _ __ ___   ___\n",
    " / _` | | __| |/ _ \\/ _` |  / _` |/ _` | '_ ` _ \\ / _ \\\\\n",
    "| (_| | | |_| |  __/ (_| | | (_| | (_| | | | | | |  __/\n",
    " \\__,_|  \\__|_|\\___|\\__,_|  \\__, |\\__,_|_| |_| |_|\\___|\n",
    "                             __/ |\n",
    "                            |___/\n",
    "  ___                     _                _            __\n",
    " / / |                   | |              (_)           \\ \\\\\n",
    "| || |__   _____      __ | |__   ___  _ __ _ _ __   __ _ | |\n",
    "| || '_ \\ / _ \\ \\ /\\ / / | '_ \\ / _ \\| '__| | '_ \\ / _` || |\n",
    "| || | | | (_) \\ V  V /  | |_) | (_) | |  | | | | | (_| || |\n",
    "| ||_| |_|\\___/ \\_/\\_/   |_.__/ \\___/|_|  |_|_| |_|\\__, || |\n",
    " \\_\\                                                __/ /_/\n",
    "                                                   |___/    \"\"\"\n",
    "}"
   ]
  },
  {
   "cell_type": "markdown",
   "metadata": {
    "id": "75f2c6d5"
   },
   "source": [
    "Dopodichè creeremo due funzioni per visualizzare agevolmente azioni e risultati in ASCII art:\n",
    "- `display_action`\n",
    "- `display_results`"
   ]
  },
  {
   "cell_type": "code",
   "execution_count": 31,
   "metadata": {
    "id": "c96921e2",
    "ExecuteTime": {
     "end_time": "2023-11-13T18:04:58.399452317Z",
     "start_time": "2023-11-13T18:04:58.368943717Z"
    }
   },
   "outputs": [],
   "source": [
    "def display_action(action):\n",
    "    print(ascii_action[action])\n",
    "\n",
    "def display_result(result):\n",
    "    print(ascii_result[result])"
   ]
  },
  {
   "cell_type": "code",
   "execution_count": 32,
   "metadata": {
    "colab": {
     "base_uri": "https://localhost:8080/"
    },
    "executionInfo": {
     "elapsed": 15,
     "status": "ok",
     "timestamp": 1699709874816,
     "user": {
      "displayName": "Moreno Mazzocchetti",
      "userId": "18050587376363424786"
     },
     "user_tz": -60
    },
    "id": "18tMjb3sjwts",
    "outputId": "24de5258-e6d3-4a97-8e09-17f6659485f3",
    "ExecuteTime": {
     "end_time": "2023-11-13T18:04:58.431764282Z",
     "start_time": "2023-11-13T18:04:58.373237609Z"
    }
   },
   "outputs": [
    {
     "name": "stdout",
     "output_type": "stream",
     "text": [
      "\n",
      "     _____                  _\n",
      "    /  ___|                | |\n",
      "    \\ `--. _ __   ___   ___| | __\n",
      "     `--. \\ '_ \\ / _ \\ / __| |/ /\n",
      "    /\\__/ / |_) | (_) | (__|   <\n",
      "    \\____/| .__/ \\___/ \\___|_|\\_\\\\\n",
      "          | |\n",
      "          |_|\n",
      "    \n"
     ]
    }
   ],
   "source": [
    "display_action(Action.Spock)"
   ]
  },
  {
   "cell_type": "markdown",
   "metadata": {
    "id": "c1b643e3"
   },
   "source": [
    "Per usare queste funzioni dovremo modificare anche la funzione `determine_winner`"
   ]
  },
  {
   "cell_type": "code",
   "execution_count": 33,
   "metadata": {
    "id": "252c6e45",
    "ExecuteTime": {
     "end_time": "2023-11-13T18:04:58.432170640Z",
     "start_time": "2023-11-13T18:04:58.417526836Z"
    }
   },
   "outputs": [],
   "source": [
    "def determine_winner(user_action, computer_action):\n",
    "    print(f\"You chose\")\n",
    "    display_action(user_action)\n",
    "    print(f\"The computer chose\")\n",
    "    display_action(computer_action)\n",
    "    defeats = victories[user_action]\n",
    "    if user_action == computer_action:\n",
    "        display_result(DRAW)\n",
    "        return DRAW\n",
    "    elif computer_action in defeats:\n",
    "       display_result(HUMAN_WIN)\n",
    "       return HUMAN_WIN\n",
    "    else:\n",
    "       display_result(COMPUTER_WIN)\n",
    "       return COMPUTER_WIN"
   ]
  },
  {
   "cell_type": "code",
   "execution_count": 34,
   "metadata": {
    "colab": {
     "base_uri": "https://localhost:8080/"
    },
    "executionInfo": {
     "elapsed": 4400,
     "status": "ok",
     "timestamp": 1699709879202,
     "user": {
      "displayName": "Moreno Mazzocchetti",
      "userId": "18050587376363424786"
     },
     "user_tz": -60
    },
    "id": "q_y93jZFjwtv",
    "outputId": "9a6ba887-29e9-4baa-840d-d98ea434c6d0",
    "ExecuteTime": {
     "end_time": "2023-11-13T18:05:00.784466515Z",
     "start_time": "2023-11-13T18:04:58.418139193Z"
    }
   },
   "outputs": [
    {
     "name": "stdout",
     "output_type": "stream",
     "text": [
      "You chose\n",
      "\n",
      "    ______           _\n",
      "    | ___ \\         | |\n",
      "    | |_/ /___   ___| | __\n",
      "    |    // _ \\ / __| |/ /\n",
      "    | |\\ \\ (_) | (__|   <\n",
      "    \\_| \\_\\___/ \\___|_|\\_\\\n",
      "\n",
      "     \n",
      "The computer chose\n",
      "\n",
      "     _____      _\n",
      "    /  ___|    (_)\n",
      "    \\ `--.  ___ _ ___ ___  ___  _ __ ___\n",
      "     `--. \\/ __| / __/ __|/ _ \\| '__/ __|\n",
      "    /\\__/ / (__| \\__ \\__ \\ (_) | |  \\__ \\\\\n",
      "    \\____/ \\___|_|___/___/\\___/|_|  |___/\n",
      "    \n",
      "\n",
      " _   _ _   ____  ___  ___   _   _\n",
      "| | | | | | |  \\/  | / _ \\ | \\ | |\n",
      "| |_| | | | | .  . |/ /_\\ \\|  \\| |\n",
      "|  _  | | | | |\\/| ||  _  || . ` |\n",
      "| | | | |_| | |  | || | | || |\\  |\n",
      "\\_| |_/\\___/\\_|  |_/\\_| |_/\\_| \\_/\n",
      "\n",
      "\n",
      " _    _ _____ _   _  _____   _ _ _\n",
      "| |  | |_   _| \\ | |/  ___| | | | |\n",
      "| |  | | | | |  \\| |\\ `--.  | | | |\n",
      "| |/\\| | | | | . ` | `--. \\ | | | |\n",
      "\\  /\\  /_| |_| |\\  |/\\__/ / |_|_|_|\n",
      " \\/  \\/ \\___/\\_| \\_/\\____/  (_|_|_)\n",
      "\n",
      "\n",
      "        __\n",
      "       / _|\n",
      "      | |_ ___  _ __   _ __   _____      __\n",
      "      |  _/ _ \\| '__| | '_ \\ / _ \\ \\ /\\ / /\n",
      " _ _ _| || (_) | |    | | | | (_) \\ V  V /   _ _ _\n",
      "(_|_|_)_| \\___/|_|    |_| |_|\\___/ \\_/\\_/   (_|_|_)\n",
      "\n",
      "                                                   \n"
     ]
    }
   ],
   "source": [
    "start_game()"
   ]
  },
  {
   "cell_type": "markdown",
   "metadata": {
    "id": "5e478a36"
   },
   "source": [
    "### Conserviamo i punteggi ottenuti manche per manche dagli utenti\n",
    "\n",
    "Non ci accontenteremo più solo dei messaggi di vittoria della singola manche. Vogliamo proprio fare una partita per capire chi vince fra utente e computer dopo N manche. Ora possiamo fare una vera e propria partita contro il computer e decidere quando finirla!"
   ]
  },
  {
   "cell_type": "code",
   "execution_count": 35,
   "metadata": {
    "id": "ec5766f6",
    "ExecuteTime": {
     "end_time": "2023-11-13T18:05:00.784880036Z",
     "start_time": "2023-11-13T18:05:00.741917536Z"
    }
   },
   "outputs": [],
   "source": [
    "def print_game_results(game_results):\n",
    "    num_tied = game_results.count(DRAW) / len(game_results)*100\n",
    "    num_player_wins = game_results.count(HUMAN_WIN) / len(game_results)*100\n",
    "    num_computer_wins =game_results.count(COMPUTER_WIN) / len(game_results)*100\n",
    "\n",
    "    print( 'There were ', num_tied, '% tied games', \"\\nthe player won \", num_player_wins, '% of games\\nthe computer won ', num_computer_wins, '% of games\\nin a total of ', len(game_results), ' games')\n",
    "\n",
    "def start_game(num_games=1):\n",
    "    game_results = []\n",
    "    counter=0\n",
    "    while True:\n",
    "        try:\n",
    "            user_action = get_user_selection()\n",
    "        except ValueError:\n",
    "            range_str = f\"[0, {len(Action) - 1}]\"\n",
    "            print(f\"Invalid selection. Enter a value in range {range_str}\")\n",
    "            continue\n",
    "\n",
    "        computer_action = get_computer_selection()\n",
    "        game_results.append(determine_winner(user_action, computer_action))\n",
    "        counter += 1\n",
    "\n",
    "        if counter >= num_games:\n",
    "            break\n",
    "    print_game_results(game_results)\n",
    "    return game_results\n",
    "\n"
   ]
  },
  {
   "cell_type": "code",
   "execution_count": 36,
   "metadata": {
    "colab": {
     "base_uri": "https://localhost:8080/"
    },
    "executionInfo": {
     "elapsed": 4689,
     "status": "ok",
     "timestamp": 1699709883885,
     "user": {
      "displayName": "Moreno Mazzocchetti",
      "userId": "18050587376363424786"
     },
     "user_tz": -60
    },
    "id": "lcLQZxy3jwtw",
    "outputId": "15a53e1a-4624-4a0a-e604-2b687f656fef",
    "ExecuteTime": {
     "end_time": "2023-11-13T18:05:01.720642511Z",
     "start_time": "2023-11-13T18:05:00.746539899Z"
    }
   },
   "outputs": [
    {
     "name": "stdout",
     "output_type": "stream",
     "text": [
      "You chose\n",
      "\n",
      "    ______           _\n",
      "    | ___ \\         | |\n",
      "    | |_/ /___   ___| | __\n",
      "    |    // _ \\ / __| |/ /\n",
      "    | |\\ \\ (_) | (__|   <\n",
      "    \\_| \\_\\___/ \\___|_|\\_\\\n",
      "\n",
      "     \n",
      "The computer chose\n",
      "\n",
      "    ______\n",
      "    | ___ \\\n",
      "    | |_/ /_ _ _ __   ___ _ __\n",
      "    |  __/ _` | '_ \\ / _ \\ '__|\n",
      "    | | | (_| | |_) |  __/ |\n",
      "    \\_|  \\__,_| .__/ \\___|_|\n",
      "              | |\n",
      "              |_|\n",
      "     \n",
      "\n",
      " _____ ________  _________ _   _ _____ ___________\n",
      "/  __ \\  _  |  \\/  || ___ \\ | | |_   _|  ___| ___ \\\\\n",
      "| /  \\/ | | | .  . || |_/ / | | | | | | |__ | |_/ /\n",
      "| |   | | | | |\\/| ||  __/| | | | | | |  __||    /\n",
      "| \\__/\\ \\_/ / |  | || |   | |_| | | | | |___| |\\ \\\n",
      " \\____/\\___/\\_|  |_/\\_|    \\___/  \\_/ \\____/\\_| \\_|\n",
      "\n",
      "\n",
      " _    _ _____ _   _  _____   _ _ _\n",
      "| |  | |_   _| \\ | |/  ___| | | | |\n",
      "| |  | | | | |  \\| |\\ `--.  | | | |\n",
      "| |/\\| | | | | . ` | `--. \\ | | | |\n",
      "\\  /\\  /_| |_| |\\  |/\\__/ / |_|_|_|\n",
      " \\/  \\/ \\___/\\_| \\_/\\____/  (_|_|_)\n",
      "\n",
      "                                                   \n",
      "There were  0.0 % tied games \n",
      "the player won  0.0 % of games\n",
      "the computer won  100.0 % of games\n",
      "in a total of  1  games\n"
     ]
    }
   ],
   "source": [
    "game_results=start_game(1)"
   ]
  },
  {
   "cell_type": "markdown",
   "metadata": {
    "id": "aae3e00d"
   },
   "source": [
    "### Utilizziamo un'interfaccia grafica!\n",
    "\n",
    "Nella cella successiva andremo ad utilizzare una feature di Jupyter che ci consente di creare al volo un menu a tendina (dopotutto questa è una pagina HTML, no?) e di associare un comportamento alla scelta della voce dal menu!\n",
    "\n",
    "Concetti connessi:\n",
    "- list comprehension\n",
    "- `widgets.Dropdown`"
   ]
  },
  {
   "cell_type": "code",
   "execution_count": 41,
   "metadata": {
    "colab": {
     "base_uri": "https://localhost:8080/"
    },
    "executionInfo": {
     "elapsed": 15258,
     "status": "ok",
     "timestamp": 1699709899132,
     "user": {
      "displayName": "Moreno Mazzocchetti",
      "userId": "18050587376363424786"
     },
     "user_tz": -60
    },
    "id": "yE1oRjMn5G0f",
    "outputId": "fe2da3a7-4310-44a5-c77d-560c2e9739e5",
    "ExecuteTime": {
     "end_time": "2023-11-13T18:10:39.999088654Z",
     "start_time": "2023-11-13T18:10:27.553051295Z"
    }
   },
   "outputs": [
    {
     "name": "stdout",
     "output_type": "stream",
     "text": [
      "Collecting gdown\r\n",
      "  Using cached gdown-4.7.1-py3-none-any.whl (15 kB)\r\n",
      "Collecting numpy\r\n",
      "  Using cached numpy-1.26.2-cp311-cp311-manylinux_2_17_x86_64.manylinux2014_x86_64.whl (18.2 MB)\r\n",
      "Collecting opencv-python\r\n",
      "  Using cached opencv_python-4.8.1.78-cp37-abi3-manylinux_2_17_x86_64.manylinux2014_x86_64.whl (61.7 MB)\r\n",
      "Collecting mediapipe\r\n",
      "  Using cached mediapipe-0.10.8-cp311-cp311-manylinux_2_17_x86_64.manylinux2014_x86_64.whl (34.5 MB)\r\n",
      "Requirement already satisfied: requests in ./.venv/lib/python3.11/site-packages (2.31.0)\r\n",
      "Collecting filelock (from gdown)\r\n",
      "  Using cached filelock-3.13.1-py3-none-any.whl (11 kB)\r\n",
      "Requirement already satisfied: six in ./.venv/lib/python3.11/site-packages (from gdown) (1.16.0)\r\n",
      "Collecting tqdm (from gdown)\r\n",
      "  Using cached tqdm-4.66.1-py3-none-any.whl (78 kB)\r\n",
      "Requirement already satisfied: beautifulsoup4 in ./.venv/lib/python3.11/site-packages (from gdown) (4.12.2)\r\n",
      "Collecting absl-py (from mediapipe)\r\n",
      "  Using cached absl_py-2.0.0-py3-none-any.whl (130 kB)\r\n",
      "Requirement already satisfied: attrs>=19.1.0 in ./.venv/lib/python3.11/site-packages (from mediapipe) (23.1.0)\r\n",
      "Collecting flatbuffers>=2.0 (from mediapipe)\r\n",
      "  Using cached flatbuffers-23.5.26-py2.py3-none-any.whl (26 kB)\r\n",
      "Collecting matplotlib (from mediapipe)\r\n",
      "  Using cached matplotlib-3.8.1-cp311-cp311-manylinux_2_17_x86_64.manylinux2014_x86_64.whl (11.6 MB)\r\n",
      "Collecting opencv-contrib-python (from mediapipe)\r\n",
      "  Using cached opencv_contrib_python-4.8.1.78-cp37-abi3-manylinux_2_17_x86_64.manylinux2014_x86_64.whl (67.8 MB)\r\n",
      "Collecting protobuf<4,>=3.11 (from mediapipe)\r\n",
      "  Using cached protobuf-3.20.3-py2.py3-none-any.whl (162 kB)\r\n",
      "Collecting sounddevice>=0.4.4 (from mediapipe)\r\n",
      "  Using cached sounddevice-0.4.6-py3-none-any.whl (31 kB)\r\n",
      "Requirement already satisfied: charset-normalizer<4,>=2 in ./.venv/lib/python3.11/site-packages (from requests) (3.3.2)\r\n",
      "Requirement already satisfied: idna<4,>=2.5 in ./.venv/lib/python3.11/site-packages (from requests) (3.4)\r\n",
      "Requirement already satisfied: urllib3<3,>=1.21.1 in ./.venv/lib/python3.11/site-packages (from requests) (2.1.0)\r\n",
      "Requirement already satisfied: certifi>=2017.4.17 in ./.venv/lib/python3.11/site-packages (from requests) (2023.7.22)\r\n",
      "Requirement already satisfied: CFFI>=1.0 in ./.venv/lib/python3.11/site-packages (from sounddevice>=0.4.4->mediapipe) (1.16.0)\r\n",
      "Requirement already satisfied: soupsieve>1.2 in ./.venv/lib/python3.11/site-packages (from beautifulsoup4->gdown) (2.5)\r\n",
      "Collecting contourpy>=1.0.1 (from matplotlib->mediapipe)\r\n",
      "  Using cached contourpy-1.2.0-cp311-cp311-manylinux_2_17_x86_64.manylinux2014_x86_64.whl (313 kB)\r\n",
      "Collecting cycler>=0.10 (from matplotlib->mediapipe)\r\n",
      "  Using cached cycler-0.12.1-py3-none-any.whl (8.3 kB)\r\n",
      "Collecting fonttools>=4.22.0 (from matplotlib->mediapipe)\r\n",
      "  Using cached fonttools-4.44.0-cp311-cp311-manylinux_2_17_x86_64.manylinux2014_x86_64.whl (4.8 MB)\r\n",
      "Collecting kiwisolver>=1.3.1 (from matplotlib->mediapipe)\r\n",
      "  Using cached kiwisolver-1.4.5-cp311-cp311-manylinux_2_17_x86_64.manylinux2014_x86_64.whl (1.4 MB)\r\n",
      "Requirement already satisfied: packaging>=20.0 in ./.venv/lib/python3.11/site-packages (from matplotlib->mediapipe) (23.2)\r\n",
      "Collecting pillow>=8 (from matplotlib->mediapipe)\r\n",
      "  Using cached Pillow-10.1.0-cp311-cp311-manylinux_2_28_x86_64.whl (3.6 MB)\r\n",
      "Collecting pyparsing>=2.3.1 (from matplotlib->mediapipe)\r\n",
      "  Using cached pyparsing-3.1.1-py3-none-any.whl (103 kB)\r\n",
      "Requirement already satisfied: python-dateutil>=2.7 in ./.venv/lib/python3.11/site-packages (from matplotlib->mediapipe) (2.8.2)\r\n",
      "Collecting PySocks!=1.5.7,>=1.5.6 (from requests)\r\n",
      "  Using cached PySocks-1.7.1-py3-none-any.whl (16 kB)\r\n",
      "Requirement already satisfied: pycparser in ./.venv/lib/python3.11/site-packages (from CFFI>=1.0->sounddevice>=0.4.4->mediapipe) (2.21)\r\n",
      "Installing collected packages: flatbuffers, tqdm, PySocks, pyparsing, protobuf, pillow, numpy, kiwisolver, fonttools, filelock, cycler, absl-py, sounddevice, opencv-python, opencv-contrib-python, contourpy, matplotlib, gdown, mediapipe\r\n",
      "Successfully installed PySocks-1.7.1 absl-py-2.0.0 contourpy-1.2.0 cycler-0.12.1 filelock-3.13.1 flatbuffers-23.5.26 fonttools-4.44.0 gdown-4.7.1 kiwisolver-1.4.5 matplotlib-3.8.1 mediapipe-0.10.8 numpy-1.26.2 opencv-contrib-python-4.8.1.78 opencv-python-4.8.1.78 pillow-10.1.0 protobuf-3.20.3 pyparsing-3.1.1 sounddevice-0.4.6 tqdm-4.66.1\r\n",
      "\r\n",
      "\u001B[1m[\u001B[0m\u001B[34;49mnotice\u001B[0m\u001B[1;39;49m]\u001B[0m\u001B[39;49m A new release of pip is available: \u001B[0m\u001B[31;49m23.1.2\u001B[0m\u001B[39;49m -> \u001B[0m\u001B[32;49m23.3.1\u001B[0m\r\n",
      "\u001B[1m[\u001B[0m\u001B[34;49mnotice\u001B[0m\u001B[1;39;49m]\u001B[0m\u001B[39;49m To update, run: \u001B[0m\u001B[32;49mpip install --upgrade pip\u001B[0m\r\n"
     ]
    }
   ],
   "source": [
    "!pip install gdown numpy opencv-python mediapipe requests"
   ]
  },
  {
   "cell_type": "code",
   "execution_count": 42,
   "metadata": {
    "colab": {
     "base_uri": "https://localhost:8080/"
    },
    "executionInfo": {
     "elapsed": 951,
     "status": "ok",
     "timestamp": 1699709900079,
     "user": {
      "displayName": "Moreno Mazzocchetti",
      "userId": "18050587376363424786"
     },
     "user_tz": -60
    },
    "id": "uddtBN5Hj0mh",
    "outputId": "5aaf0849-e0d3-48be-fa9e-35bf7473506f",
    "ExecuteTime": {
     "end_time": "2023-11-13T18:10:52.503377013Z",
     "start_time": "2023-11-13T18:10:50.591649692Z"
    }
   },
   "outputs": [
    {
     "name": "stdout",
     "output_type": "stream",
     "text": [
      "Downloading...\r\n",
      "From (uriginal): https://drive.google.com/uc?id=1G9WKV8BbGFx5JySQoRQrZ3Y8c_Lg9q3N\r\n",
      "From (redirected): https://drive.google.com/uc?id=1G9WKV8BbGFx5JySQoRQrZ3Y8c_Lg9q3N&confirm=t&uuid=0dcea6f1-471f-48c3-810c-0f247832e330\r\n",
      "To: /home/debian/develop/personal/pythonpescara/python-beginners-workshop-2023/support.py\r\n",
      "100%|██████████████████████████████████████| 13.2k/13.2k [00:00<00:00, 47.5MB/s]\r\n"
     ]
    }
   ],
   "source": [
    "!gdown 1G9WKV8BbGFx5JySQoRQrZ3Y8c_Lg9q3N"
   ]
  },
  {
   "cell_type": "code",
   "execution_count": 39,
   "metadata": {
    "id": "Pg1r0Rq14b9f",
    "ExecuteTime": {
     "end_time": "2023-11-13T18:05:19.754435822Z",
     "start_time": "2023-11-13T18:05:19.383326383Z"
    }
   },
   "outputs": [
    {
     "ename": "ModuleNotFoundError",
     "evalue": "No module named 'mediapipe'",
     "output_type": "error",
     "traceback": [
      "\u001B[0;31m---------------------------------------------------------------------------\u001B[0m",
      "\u001B[0;31mModuleNotFoundError\u001B[0m                       Traceback (most recent call last)",
      "Cell \u001B[0;32mIn[39], line 1\u001B[0m\n\u001B[0;32m----> 1\u001B[0m \u001B[38;5;28;01mfrom\u001B[39;00m \u001B[38;5;21;01msupport\u001B[39;00m \u001B[38;5;28;01mimport\u001B[39;00m \u001B[38;5;241m*\u001B[39m\n",
      "File \u001B[0;32m~/develop/personal/pythonpescara/python-beginners-workshop-2023/support.py:2\u001B[0m\n\u001B[1;32m      1\u001B[0m \u001B[38;5;28;01mimport\u001B[39;00m \u001B[38;5;21;01mnumpy\u001B[39;00m \u001B[38;5;28;01mas\u001B[39;00m \u001B[38;5;21;01mnp\u001B[39;00m\n\u001B[0;32m----> 2\u001B[0m \u001B[38;5;28;01mimport\u001B[39;00m \u001B[38;5;21;01mmediapipe\u001B[39;00m \u001B[38;5;28;01mas\u001B[39;00m \u001B[38;5;21;01mmp\u001B[39;00m\n\u001B[1;32m      3\u001B[0m \u001B[38;5;28;01mimport\u001B[39;00m \u001B[38;5;21;01mcv2\u001B[39;00m\n\u001B[1;32m      4\u001B[0m \u001B[38;5;28;01mimport\u001B[39;00m \u001B[38;5;21;01mrequests\u001B[39;00m\n",
      "\u001B[0;31mModuleNotFoundError\u001B[0m: No module named 'mediapipe'"
     ]
    }
   ],
   "source": [
    "from support import *"
   ]
  },
  {
   "cell_type": "code",
   "execution_count": null,
   "metadata": {
    "colab": {
     "base_uri": "https://localhost:8080/",
     "height": 847
    },
    "executionInfo": {
     "elapsed": 7,
     "status": "ok",
     "timestamp": 1699709900079,
     "user": {
      "displayName": "Moreno Mazzocchetti",
      "userId": "18050587376363424786"
     },
     "user_tz": -60
    },
    "id": "a6b41097",
    "outputId": "aadb9b9b-abec-4391-fe5b-93f908d710c6"
   },
   "outputs": [],
   "source": [
    "options=[(action.name,action.value) for action in Action]\n",
    "output, button, box, menu = create_dropdown(options)\n",
    "\n",
    "def on_button_clicked(b):\n",
    "    output.clear_output()\n",
    "    with output:\n",
    "        computer_action = get_computer_selection()\n",
    "        determine_winner(Action(menu.value), computer_action)\n",
    "\n",
    "button.on_click(on_button_clicked)\n",
    "\n",
    "display(box)"
   ]
  },
  {
   "cell_type": "markdown",
   "metadata": {
    "id": "d95e966e"
   },
   "source": [
    "## Time to use ML!\n",
    "\n",
    "Nelle celle successive andremo ad utilizzare il Machine Learning per addestrare un modello predittivo in grado di dedurre la mossa dell'utente a partire dall'inquadratura della mano ottenuta con la webcam.\n",
    "\n",
    "Installiamo le librerie necessarie e importiamole:"
   ]
  },
  {
   "cell_type": "code",
   "execution_count": null,
   "metadata": {
    "id": "3CCoidG5jwtx"
   },
   "outputs": [],
   "source": [
    "def start_game(num_games=1):\n",
    "    game_results = []\n",
    "    counter = 0\n",
    "    # Load mediapipe hand class\n",
    "    pipe = MediaPipeHand(static_image_mode=True, max_num_hands=1)\n",
    "    # Load gesture recognition class\n",
    "    gest = GestureRecognition()\n",
    "    while True:\n",
    "        try:\n",
    "            img = take_photo()\n",
    "            param = pipe.forward(img)\n",
    "            # Evaluate gesture for all hands\n",
    "\n",
    "            for p in param:\n",
    "                if p['class'] is not None:\n",
    "                    p['gesture'] = gest.eval(p['angle'])\n",
    "                    action = None\n",
    "                    if p['gesture'] == 'fist':\n",
    "                        action = Action.Rock\n",
    "                    elif p['gesture'] == 'five':\n",
    "                        action = Action.Paper\n",
    "                    elif (p['gesture'] == 'three') or (p['gesture']=='yeah'):\n",
    "                        action = Action.Scissors\n",
    "                    elif (p['gesture'] == 'rock') :\n",
    "                        action = Action.Lizard\n",
    "                    elif (p['gesture'] == 'four'):\n",
    "                        action = Action.Spock\n",
    "                    if action is not None:\n",
    "                        computer_action = get_computer_selection()\n",
    "                        game_results.append(determine_winner(action, computer_action))\n",
    "                        counter += 1\n",
    "                        print_game_results(game_results)\n",
    "                        old_action=action\n",
    "\n",
    "            if counter>=num_games:\n",
    "                break\n",
    "        except Exception as err:\n",
    "            # Errors will be thrown if the user does not have a webcam or if they do not\n",
    "            # grant the page permission to access it.\n",
    "            print(str(err))\n",
    "            raise err\n",
    "\n",
    "    pipe.pipe.close()"
   ]
  },
  {
   "cell_type": "code",
   "execution_count": null,
   "metadata": {
    "colab": {
     "background_save": true,
     "base_uri": "https://localhost:8080/",
     "height": 17
    },
    "id": "biwLyBjhjwtx"
   },
   "outputs": [],
   "source": [
    "start_game(num_games=5)"
   ]
  }
 ],
 "metadata": {
  "colab": {
   "name": "",
   "version": ""
  },
  "kernelspec": {
   "display_name": "Python 3 (ipykernel)",
   "language": "python",
   "name": "python3"
  },
  "language_info": {
   "codemirror_mode": {
    "name": "ipython",
    "version": 3
   },
   "file_extension": ".py",
   "mimetype": "text/x-python",
   "name": "python",
   "nbconvert_exporter": "python",
   "pygments_lexer": "ipython3",
   "version": "3.9.1"
  },
  "widgets": {
   "application/vnd.jupyter.widget-state+json": {
    "044c8c12d53c4f80b02a195ee1b10ded": {
     "model_module": "@jupyter-widgets/controls",
     "model_module_version": "1.5.0",
     "model_name": "DropdownModel",
     "state": {
      "_dom_classes": [],
      "_model_module": "@jupyter-widgets/controls",
      "_model_module_version": "1.5.0",
      "_model_name": "DropdownModel",
      "_options_labels": [
       "Rock",
       "Paper",
       "Scissors",
       "Lizard",
       "Spock"
      ],
      "_view_count": null,
      "_view_module": "@jupyter-widgets/controls",
      "_view_module_version": "1.5.0",
      "_view_name": "DropdownView",
      "description": "Chose:",
      "description_tooltip": null,
      "disabled": false,
      "index": 0,
      "layout": "IPY_MODEL_249fd3223b024434870c8581f5221f70",
      "style": "IPY_MODEL_38d57a4f87494825b29f284516a9c312"
     }
    },
    "249fd3223b024434870c8581f5221f70": {
     "model_module": "@jupyter-widgets/base",
     "model_module_version": "1.2.0",
     "model_name": "LayoutModel",
     "state": {
      "_model_module": "@jupyter-widgets/base",
      "_model_module_version": "1.2.0",
      "_model_name": "LayoutModel",
      "_view_count": null,
      "_view_module": "@jupyter-widgets/base",
      "_view_module_version": "1.2.0",
      "_view_name": "LayoutView",
      "align_content": null,
      "align_items": null,
      "align_self": null,
      "border": null,
      "bottom": null,
      "display": null,
      "flex": null,
      "flex_flow": null,
      "grid_area": null,
      "grid_auto_columns": null,
      "grid_auto_flow": null,
      "grid_auto_rows": null,
      "grid_column": null,
      "grid_gap": null,
      "grid_row": null,
      "grid_template_areas": null,
      "grid_template_columns": null,
      "grid_template_rows": null,
      "height": null,
      "justify_content": null,
      "justify_items": null,
      "left": null,
      "margin": null,
      "max_height": null,
      "max_width": null,
      "min_height": null,
      "min_width": null,
      "object_fit": null,
      "object_position": null,
      "order": null,
      "overflow": null,
      "overflow_x": null,
      "overflow_y": null,
      "padding": null,
      "right": null,
      "top": null,
      "visibility": null,
      "width": null
     }
    },
    "38d57a4f87494825b29f284516a9c312": {
     "model_module": "@jupyter-widgets/controls",
     "model_module_version": "1.5.0",
     "model_name": "DescriptionStyleModel",
     "state": {
      "_model_module": "@jupyter-widgets/controls",
      "_model_module_version": "1.5.0",
      "_model_name": "DescriptionStyleModel",
      "_view_count": null,
      "_view_module": "@jupyter-widgets/base",
      "_view_module_version": "1.2.0",
      "_view_name": "StyleView",
      "description_width": ""
     }
    },
    "67200cd7f8924627aa18cc81af0a478d": {
     "model_module": "@jupyter-widgets/base",
     "model_module_version": "1.2.0",
     "model_name": "LayoutModel",
     "state": {
      "_model_module": "@jupyter-widgets/base",
      "_model_module_version": "1.2.0",
      "_model_name": "LayoutModel",
      "_view_count": null,
      "_view_module": "@jupyter-widgets/base",
      "_view_module_version": "1.2.0",
      "_view_name": "LayoutView",
      "align_content": null,
      "align_items": null,
      "align_self": null,
      "border": "1px solid black",
      "bottom": null,
      "display": null,
      "flex": null,
      "flex_flow": null,
      "grid_area": null,
      "grid_auto_columns": null,
      "grid_auto_flow": null,
      "grid_auto_rows": null,
      "grid_column": null,
      "grid_gap": null,
      "grid_row": null,
      "grid_template_areas": null,
      "grid_template_columns": null,
      "grid_template_rows": null,
      "height": null,
      "justify_content": null,
      "justify_items": null,
      "left": null,
      "margin": null,
      "max_height": null,
      "max_width": null,
      "min_height": null,
      "min_width": null,
      "object_fit": null,
      "object_position": null,
      "order": null,
      "overflow": null,
      "overflow_x": null,
      "overflow_y": null,
      "padding": null,
      "right": null,
      "top": null,
      "visibility": null,
      "width": null
     }
    },
    "9181989fa1c943b895c8d8920b57c0d4": {
     "model_module": "@jupyter-widgets/base",
     "model_module_version": "1.2.0",
     "model_name": "LayoutModel",
     "state": {
      "_model_module": "@jupyter-widgets/base",
      "_model_module_version": "1.2.0",
      "_model_name": "LayoutModel",
      "_view_count": null,
      "_view_module": "@jupyter-widgets/base",
      "_view_module_version": "1.2.0",
      "_view_name": "LayoutView",
      "align_content": null,
      "align_items": null,
      "align_self": null,
      "border": null,
      "bottom": null,
      "display": null,
      "flex": null,
      "flex_flow": null,
      "grid_area": null,
      "grid_auto_columns": null,
      "grid_auto_flow": null,
      "grid_auto_rows": null,
      "grid_column": null,
      "grid_gap": null,
      "grid_row": null,
      "grid_template_areas": null,
      "grid_template_columns": null,
      "grid_template_rows": null,
      "height": null,
      "justify_content": null,
      "justify_items": null,
      "left": null,
      "margin": null,
      "max_height": null,
      "max_width": null,
      "min_height": null,
      "min_width": null,
      "object_fit": null,
      "object_position": null,
      "order": null,
      "overflow": null,
      "overflow_x": null,
      "overflow_y": null,
      "padding": null,
      "right": null,
      "top": null,
      "visibility": null,
      "width": null
     }
    },
    "bce58963af05485d9e28cc4836e298c7": {
     "model_module": "@jupyter-widgets/controls",
     "model_module_version": "1.5.0",
     "model_name": "VBoxModel",
     "state": {
      "_dom_classes": [],
      "_model_module": "@jupyter-widgets/controls",
      "_model_module_version": "1.5.0",
      "_model_name": "VBoxModel",
      "_view_count": null,
      "_view_module": "@jupyter-widgets/controls",
      "_view_module_version": "1.5.0",
      "_view_name": "VBoxView",
      "box_style": "",
      "children": [
       "IPY_MODEL_044c8c12d53c4f80b02a195ee1b10ded",
       "IPY_MODEL_f698ce0c10b946beb5563253752f3f6b",
       "IPY_MODEL_debad6f6bc9c4066bbb98c12cf703d26"
      ],
      "layout": "IPY_MODEL_9181989fa1c943b895c8d8920b57c0d4"
     }
    },
    "debad6f6bc9c4066bbb98c12cf703d26": {
     "model_module": "@jupyter-widgets/output",
     "model_module_version": "1.0.0",
     "model_name": "OutputModel",
     "state": {
      "_dom_classes": [],
      "_model_module": "@jupyter-widgets/output",
      "_model_module_version": "1.0.0",
      "_model_name": "OutputModel",
      "_view_count": null,
      "_view_module": "@jupyter-widgets/output",
      "_view_module_version": "1.0.0",
      "_view_name": "OutputView",
      "layout": "IPY_MODEL_67200cd7f8924627aa18cc81af0a478d",
      "msg_id": "",
      "outputs": [
       {
        "name": "stdout",
        "output_type": "stream",
        "text": [
         "You chose\n",
         "\n",
         "    ______           _\n",
         "    | ___ \\         | |\n",
         "    | |_/ /___   ___| | __\n",
         "    |    // _ \\ / __| |/ /\n",
         "    | |\\ \\ (_) | (__|   <\n",
         "    \\_| \\_\\___/ \\___|_|\\_\\\n",
         "\n",
         "     \n",
         "The computer chose\n",
         "\n",
         "     _____      _\n",
         "    /  ___|    (_)\n",
         "    \\ `--.  ___ _ ___ ___  ___  _ __ ___\n",
         "     `--. \\/ __| / __/ __|/ _ \\| '__/ __|\n",
         "    /\\__/ / (__| \\__ \\__ \\ (_) | |  \\__ \\\\\n",
         "    \\____/ \\___|_|___/___/\\___/|_|  |___/\n",
         "    \n",
         "\n",
         " _   _ _   ____  ___  ___   _   _\n",
         "| | | | | | |  \\/  | / _ \\ | \\ | |\n",
         "| |_| | | | | .  . |/ /_\\ \\|  \\| |\n",
         "|  _  | | | | |\\/| ||  _  || . ` |\n",
         "| | | | |_| | |  | || | | || |\\  |\n",
         "\\_| |_/\\___/\\_|  |_/\\_| |_/\\_| \\_/\n",
         "\n",
         "\n",
         " _    _ _____ _   _  _____   _ _ _\n",
         "| |  | |_   _| \\ | |/  ___| | | | |\n",
         "| |  | | | | |  \\| |\\ `--.  | | | |\n",
         "| |/\\| | | | | . ` | `--. \\ | | | |\n",
         "\\  /\\  /_| |_| |\\  |/\\__/ / |_|_|_|\n",
         " \\/  \\/ \\___/\\_| \\_/\\____/  (_|_|_)\n",
         "\n",
         "\n",
         "        __\n",
         "       / _|\n",
         "      | |_ ___  _ __   _ __   _____      __\n",
         "      |  _/ _ \\| '__| | '_ \\ / _ \\ \\ /\\ / /\n",
         " _ _ _| || (_) | |    | | | | (_) \\ V  V /   _ _ _\n",
         "(_|_|_)_| \\___/|_|    |_| |_|\\___/ \\_/\\_/   (_|_|_)\n",
         "\n",
         "                                                   \n"
        ]
       }
      ]
     }
    },
    "f12b87967424418d8f6fed872834a091": {
     "model_module": "@jupyter-widgets/controls",
     "model_module_version": "1.5.0",
     "model_name": "ButtonStyleModel",
     "state": {
      "_model_module": "@jupyter-widgets/controls",
      "_model_module_version": "1.5.0",
      "_model_name": "ButtonStyleModel",
      "_view_count": null,
      "_view_module": "@jupyter-widgets/base",
      "_view_module_version": "1.2.0",
      "_view_name": "StyleView",
      "button_color": null,
      "font_weight": ""
     }
    },
    "f698ce0c10b946beb5563253752f3f6b": {
     "model_module": "@jupyter-widgets/controls",
     "model_module_version": "1.5.0",
     "model_name": "ButtonModel",
     "state": {
      "_dom_classes": [],
      "_model_module": "@jupyter-widgets/controls",
      "_model_module_version": "1.5.0",
      "_model_name": "ButtonModel",
      "_view_count": null,
      "_view_module": "@jupyter-widgets/controls",
      "_view_module_version": "1.5.0",
      "_view_name": "ButtonView",
      "button_style": "success",
      "description": "Play!",
      "disabled": false,
      "icon": "check",
      "layout": "IPY_MODEL_fcf2583dce504a9c960c73d0492264d5",
      "style": "IPY_MODEL_f12b87967424418d8f6fed872834a091",
      "tooltip": ""
     }
    },
    "fcf2583dce504a9c960c73d0492264d5": {
     "model_module": "@jupyter-widgets/base",
     "model_module_version": "1.2.0",
     "model_name": "LayoutModel",
     "state": {
      "_model_module": "@jupyter-widgets/base",
      "_model_module_version": "1.2.0",
      "_model_name": "LayoutModel",
      "_view_count": null,
      "_view_module": "@jupyter-widgets/base",
      "_view_module_version": "1.2.0",
      "_view_name": "LayoutView",
      "align_content": null,
      "align_items": null,
      "align_self": null,
      "border": null,
      "bottom": null,
      "display": null,
      "flex": null,
      "flex_flow": null,
      "grid_area": null,
      "grid_auto_columns": null,
      "grid_auto_flow": null,
      "grid_auto_rows": null,
      "grid_column": null,
      "grid_gap": null,
      "grid_row": null,
      "grid_template_areas": null,
      "grid_template_columns": null,
      "grid_template_rows": null,
      "height": null,
      "justify_content": null,
      "justify_items": null,
      "left": null,
      "margin": null,
      "max_height": null,
      "max_width": null,
      "min_height": null,
      "min_width": null,
      "object_fit": null,
      "object_position": null,
      "order": null,
      "overflow": null,
      "overflow_x": null,
      "overflow_y": null,
      "padding": null,
      "right": null,
      "top": null,
      "visibility": null,
      "width": null
     }
    }
   }
  }
 },
 "nbformat": 4,
 "nbformat_minor": 5
}
